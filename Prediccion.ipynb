{
 "cells": [
  {
   "cell_type": "markdown",
   "metadata": {},
   "source": [
    "Importamos los paquetes."
   ]
  },
  {
   "cell_type": "code",
   "execution_count": 28,
   "metadata": {},
   "outputs": [],
   "source": [
    "import numpy as np \n",
    "import pandas as pd \n",
    "from sklearn.model_selection import train_test_split\n",
    "from sklearn.svm import SVC\n",
    "from sklearn.model_selection import GridSearchCV\n",
    "from sklearn.model_selection import RandomizedSearchCV\n",
    "from sklearn.ensemble import GradientBoostingClassifier, AdaBoostClassifier, RandomForestClassifier\n",
    "from sklearn.naive_bayes import GaussianNB\n",
    "from sklearn.model_selection import KFold,cross_val_score\n",
    "from sklearn.preprocessing import StandardScaler \n",
    "from sklearn.neighbors import KNeighborsClassifier\n",
    "import matplotlib.pyplot as plt\n",
    "from sklearn.metrics import confusion_matrix\n",
    "from mlxtend.plotting import plot_confusion_matrix\n",
    "from sklearn.linear_model import LogisticRegression\n",
    "from numpy.random import uniform"
   ]
  },
  {
   "cell_type": "markdown",
   "metadata": {},
   "source": [
    "Cargamos los datos necesarios."
   ]
  },
  {
   "cell_type": "code",
   "execution_count": 2,
   "metadata": {},
   "outputs": [],
   "source": [
    "demographic = pd.read_csv('../data/national-health-and-nutrition-examination-survey/demographic.csv', sep=',')\n",
    "diet = pd.read_csv('../data/national-health-and-nutrition-examination-survey/diet.csv', sep=',')\n",
    "examination = pd.read_csv('../data/national-health-and-nutrition-examination-survey/examination.csv', sep=',')\n",
    "labs = pd.read_csv('../data/national-health-and-nutrition-examination-survey/labs.csv', sep=',')\n",
    "medications = pd.read_csv('../data/national-health-and-nutrition-examination-survey/medications.csv', sep=',', \n",
    "                          encoding='iso-8859-1')\n",
    "questionnaire = pd.read_csv('../data/national-health-and-nutrition-examination-survey/questionnaire.csv', sep=',')"
   ]
  },
  {
   "cell_type": "markdown",
   "metadata": {},
   "source": [
    "Realizamos una limpieza de los datos de medications. Nos quedamos solo con los que sean no nulos.\n",
    "Agrupamos por SEQN tras descategorizar, ya que en medications aparece más de un registro por paciente, debido a que un paciente puede haber sido tratado por más de un motivo.\n",
    "\n",
    "Para ello creamos un registro por paciente que tenga como variable cada una de las\n",
    "enfermedades del conjunto de datos como variable binarizada. Seleccionamos solo las variables de interés. \n",
    "\n",
    "Convertimos el nombre de las columnas de medications2 a lista para poder tenerlas identificadas y poder tratarlas después."
   ]
  },
  {
   "cell_type": "code",
   "execution_count": 3,
   "metadata": {},
   "outputs": [],
   "source": [
    "medications = medications[medications.RXDRSD1.notnull()]\n",
    "\n",
    "medications2 = pd.get_dummies(medications[['SEQN', 'RXDRSC1']]).groupby(['SEQN']).sum()\n",
    "for i in medications2.columns:\n",
    "    medications2.loc[medications2[i] > 1, i] = 1\n",
    "\n",
    "medications2=medications2.reset_index()\n",
    "# medications2\n",
    "    \n",
    "variablesMedications = medications2.columns.to_list()"
   ]
  },
  {
   "cell_type": "markdown",
   "metadata": {},
   "source": [
    "Unimos los archivos."
   ]
  },
  {
   "cell_type": "code",
   "execution_count": 4,
   "metadata": {},
   "outputs": [],
   "source": [
    "df = pd.merge(demographic, examination, how='outer', on='SEQN')\n",
    "# df\n",
    "df = pd.merge(df, diet, how='outer', on='SEQN')\n",
    "# df\n",
    "df = pd.merge(df, labs, how='outer', on='SEQN')\n",
    "# df\n",
    "df = pd.merge(df, questionnaire, how='outer', on='SEQN')\n",
    "# df\n",
    "df = pd.merge(df, medications2, how='inner', on='SEQN')"
   ]
  },
  {
   "cell_type": "markdown",
   "metadata": {},
   "source": [
    "Realizamos una selección de variables del dataframe. Estas variables son escogidas por estar relacionadas con los factores de riesgos de la hipertensión."
   ]
  },
  {
   "cell_type": "code",
   "execution_count": 5,
   "metadata": {},
   "outputs": [],
   "source": [
    "variables = [ 'ALQ101', 'ALQ110', 'ALQ120Q', 'ALQ130', 'ALQ141Q', 'ALQ151', 'ALQ160', 'BMDBMIC', 'BMIWAIST', 'RIDEXAGM',\n",
    "             'BMXBMI', 'BMXHT', 'BMXWAIST', 'BMXWT', 'BPQ060', 'BPQ070', 'BPQ080', 'BPQ090D', 'CBD070', 'CBD090', 'CBD110',\n",
    "             'CBD120', 'CBD130', 'DBD100', 'DBQ095Z', 'DID040', 'DID060', 'DID260', 'DID320', 'DID330', 'DIQ010', 'DIQ050', \n",
    "             'DIQ070', 'DIQ080', 'DIQ170', 'DIQ172', 'DIQ175A', 'DIQ175B', 'DIQ175C', 'DIQ175D', 'DIQ175E', 'DIQ175F', \n",
    "             'DIQ175G', 'DIQ175H', 'DIQ175I', 'DIQ175J', 'DIQ175K', 'DIQ175L', 'DIQ175M', 'DIQ175N', 'DIQ175O', 'DIQ175P',\n",
    "             'DIQ175Q', 'DIQ175R', 'DIQ175S', 'DIQ175T', 'DIQ175U', 'DIQ175V', 'DIQ175W', 'DIQ175X', 'DIQ180', 'DIQ230', \n",
    "             'DIQ240', 'DIQ260U', 'DIQ275', 'DIQ280', 'DIQ291', 'DMDHREDU', 'DMDHSEDU', 'DR1.300', 'DR1.320Z', 'DR1.330Z',\n",
    "             'DR1BWATZ', 'DR1DAY', 'DR1SKY', 'DR1STY', 'DR1TACAR', 'DR1TALCO', 'DR1TATOA', 'DR1TATOC', 'DR1TB12A', \n",
    "             'DR1TBCAR', 'DR1TCAFF', 'DR1TCALC', 'DR1TCARB', 'DR1TCHL', 'DR1TCHOL', 'DR1TCOPP', 'DR1TCRYP', 'DR1TFA',\n",
    "             'DR1TFDFE', 'DR1TFF', 'DR1TFIBE', 'DR1TFOLA', 'DR1TIRON', 'DR1TKCAL', 'DR1TLYCO', 'DR1TLZ', 'DR1TM161',\n",
    "             'DR1TM181', 'DR1TM201', 'DR1TM221', 'DR1TMAGN', 'DR1TMFAT', 'DR1TMOIS', 'DR1TNIAC', 'DR1TNUMF', 'DR1TP182', \n",
    "             'DR1TP183', 'DR1TP184', 'DR1TP204', 'DR1TP205', 'DR1TP225', 'DR1TP226', 'DR1TPFAT', 'DR1TPHOS', 'DR1TPOTA',\n",
    "             'DR1TPROT', 'DR1TRET', 'DR1TS040', 'DR1TS060', 'DR1TS080', 'DR1TS100', 'DR1TS120', 'DR1TS140', 'DR1TS160', \n",
    "             'DR1TS180', 'DR1TSELE', 'DR1TSFAT', 'DR1TSODI', 'DR1TSUGR', 'DR1TTFAT', 'DR1TTHEO', 'DR1TVARA', 'DR1TVB1', \n",
    "             'DR1TVB12', 'DR1TVB2', 'DR1TVB6', 'DR1TVC', 'DR1TVD', 'DR1TVK', 'DR1TWS', 'DR1TZINC', 'DRD340', 'DRD350A', \n",
    "             'DRD350AQ', 'DRD350B', 'DRD350BQ', 'DRD350C', 'DRD350CQ', 'DRD350D', 'DRD350DQ', 'DRD350E', 'DRD350EQ',\n",
    "             'DRD350F', 'DRD350FQ', 'DRD350G', 'DRD350GQ', 'DRD350H', 'DRD350HQ', 'DRD350I', 'DRD350IQ', 'DRD350J',\n",
    "             'DRD350JQ', 'DRD350K', 'DRD360', 'DRD370A', 'DRD370AQ', 'DRD370B', 'DRD370BQ', 'DRD370C', 'DRD370CQ',\n",
    "             'DRD370D', 'DRD370DQ', 'DRD370E', 'DRD370EQ', 'DRD370F', 'DRD370FQ', 'DRD370G', 'DRD370GQ', 'DRD370H',\n",
    "             'DRD370HQ', 'DRD370I', 'DRD370IQ', 'DRD370J', 'DRD370Q', 'DRD370K', 'DRD370KQ', 'DRD370L', 'DRD370LQ',\n",
    "             'DRD370M', 'DRD370MQ', 'DRD370N', 'DRD370NQ', 'DRD370O', 'DRD370OQ', 'DRD370P', 'DRD370PQ', \n",
    "             'DRD370QQ', 'DRD370R', 'DRD370RQ', 'DRD370S', 'DRD370SQ', 'DRD370T', 'DRD370TQ', 'DRD370U', 'DRD370UQ', \n",
    "             'DRD370V', 'DRQSDIET', 'DRQSDT1', 'DRQSDT10', 'DRQSDT11', 'DRQSDT12', 'DRQSDT2', 'DRQSDT3', 'DRQSDT4',\n",
    "             'DRQSDT5', 'DRQSDT6', 'DRQSDT7', 'DRQSDT8', 'DRQSDT9', 'DRQSDT91', 'DRQSPREP', 'FSD012N', 'FSD032A', \n",
    "             'FSD032B', 'FSD032D', 'FSD032E', 'FSD032F', 'FSD041', 'FSD061', 'FSD081', 'FSD092', 'FSD102', 'FSD111', \n",
    "             'FSD122', 'FSD141', 'FSD146', 'FSD151', 'FSD225', 'FSD230', 'FSD650ZC', 'FSD650ZW', 'FSD660ZC', 'FSD660ZW',\n",
    "             'FSD670ZC', 'FSD670ZW', 'FSD675', 'FSD680', 'FSQ012', 'FSQ235', 'FSQ690', 'FSQ695', 'HIQ011', 'HIQ031A',\n",
    "             'HIQ031AA', 'HIQ031B', 'HIQ031C', 'HIQ031D', 'HIQ031E', 'HIQ031F', 'HIQ031G', 'HIQ031H', 'HIQ031I', 'HIQ031J',\n",
    "             'HIQ105', 'HIQ210', 'HIQ260', 'HIQ270', 'HOD050', 'HOQ065', 'IND235', 'IND247', 'INDFMMPC', 'INDFMMPI', \n",
    "             'INDFMPIR', 'INQ140', 'INQ150', 'INQ244', 'LBDHDD', 'LBDHDDSI', 'LBDLDL', 'LBDLDLSI', 'LBDSCHSI', 'LBDTCSI', \n",
    "             'LBXSCH', 'LBXTC', 'MCQ160B', 'MCQ160C', 'MCQ160D', 'MCQ160E', 'MCQ160F', 'MCQ180B', 'MCQ180C', 'MCQ180D',\n",
    "             'MCQ180E', 'MCQ180F', 'MCQ240J', 'MCQ300A', 'MCQ300C', 'MCQ365A', 'MCQ365B', 'MCQ365C', 'MCQ365D', 'MCQ370A', \n",
    "             'MCQ370B', 'MCQ370C', 'MCQ370D', 'OHQ610', 'PAQ605', 'PAQ610', 'PAQ620', 'PAQ625', 'PAQ635', 'PAQ640', 'PAQ650',\n",
    "             'PAQ655', 'PAQ665', 'PAQ670', 'PAQ677', 'PAQ678', 'PAQ679', 'PAQ706', 'PAQ710', 'PAQ715', 'PAQ722', 'PAQ724A',\n",
    "             'PAQ724AA', 'PAQ724AB', 'PAQ724AC', 'PAQ724AD', 'PAQ724AE', 'PAQ724AF', 'PAQ724B', 'PAQ724C', 'PAQ724CM', \n",
    "             'PAQ724D', 'PAQ724E', 'PAQ724F', 'PAQ724G', 'PAQ724H', 'PAQ724I', 'PAQ724J', 'PAQ724K', 'PAQ724L', 'PAQ724M', \n",
    "             'PAQ724N', 'PAQ724O', 'PAQ724P', 'PAQ724Q', 'PAQ724R', 'PAQ724S', 'PAQ724T', 'PAQ724U', 'PAQ724V', 'PAQ724W',\n",
    "             'PAQ724X', 'PAQ724Y', 'PAQ724Z', 'PAQ731', 'PAQ740', 'PAQ742', 'PAQ744', 'PAQ746', 'PAQ748', 'PAQ750', 'PAQ755',\n",
    "             'PAQ759A', 'PAQ759B', 'PAQ759C', 'PAQ759D', 'PAQ759E', 'PAQ759F', 'PAQ759G', 'PAQ759H', 'PAQ759I', 'PAQ759J',\n",
    "             'PAQ759K', 'PAQ759L', 'PAQ759M', 'PAQ759N', 'PAQ759O', 'PAQ759P', 'PAQ759Q', 'PAQ759R', 'PAQ759S', 'PAQ759T',\n",
    "             'PAQ759U', 'PAQ759V', 'PAQ762', 'PAQ764', 'PAQ766', 'PAQ770', 'PAQ772A', 'PAQ772B', 'PAQ772C', 'PFQ020', \n",
    "             'PFQ030', 'PFQ033', 'PFQ041', 'PFQ049', 'PFQ051', 'PFQ054', 'PFQ057', 'PFQ059', 'PFQ061A', 'PFQ061B', 'PFQ061C',\n",
    "             'PFQ061D', 'PFQ061E', 'PFQ061F', 'PFQ061G', 'PFQ061H', 'PFQ061I', 'PFQ061J', 'PFQ061K', 'PFQ061L', 'PFQ061M', \n",
    "             'PFQ061N', 'PFQ061O', 'PFQ061P', 'PFQ061Q', 'PFQ061R', 'PFQ061S', 'PFQ061T', 'PFQ063A', 'PFQ063B', 'PFQ063C', \n",
    "             'PFQ063D', 'PFQ063E', 'PFQ090', 'PHAALCHR', 'PHAALCMN', 'PHQ030', 'RHQ162', 'RHQ163', 'RIAGENDR', 'RIDAGEMN',\n",
    "             'RIDAGEYR', 'RIDRETH1', 'RIDRETH3', 'RXQ510', 'RXQ520', 'SMD030', 'SMD055', 'SMD093', 'SMD100BR', \n",
    "             'SMD100CO', 'SMD100FL', 'SMD100LN', 'SMD100MN', 'SMD100NI', 'SMD100TR', 'SMD460', 'SMD470', 'SMD630', 'SMD641',\n",
    "             'SMD650', 'SMDANY', 'SMDUPCA', 'SMQ020', 'SMQ040', 'SMQ050Q', 'SMQ078', 'SMQ621', 'SMQ661', 'SMQ665A',\n",
    "             'SMQ665B', 'SMQ665C', 'SMQ665D', 'SMQ670', 'SMQ681', 'SMQ690A', 'SMQ690B', 'SMQ690C', 'SMQ690D', 'SMQ690E', \n",
    "             'SMQ690F', 'SMQ690G', 'SMQ690H', 'SMQ690I', 'SMQ690J', 'SMQ710', 'SMQ720', 'SMQ725', 'SMQ740', 'SMQ770',\n",
    "             'SMQ800', 'SMQ817', 'SMQ830', 'SMQ840', 'SMQ845', 'SMQ848', 'SMQ849', 'SMQ851', 'SMQ852Q', 'SMQ852U', 'SMQ856',\n",
    "             'SMQ857', 'SMQ858', 'SMQ860', 'SMQ861', 'SMQ862', 'SMQ863', 'SMQ866', 'SMQ868', 'SMQ870', 'SMQ872', 'SMQ874',\n",
    "             'SMQ876', 'SMQ878', 'SMQ880']\n"
   ]
  },
  {
   "cell_type": "code",
   "execution_count": 6,
   "metadata": {},
   "outputs": [],
   "source": [
    "variables = variables + variablesMedications\n",
    "data = df[variables]"
   ]
  },
  {
   "cell_type": "markdown",
   "metadata": {},
   "source": [
    "Imputamos los Nan.\n",
    "\n",
    "\n",
    "Se eliminan las filas y columnas que tengan todos los elementos nulos"
   ]
  },
  {
   "cell_type": "code",
   "execution_count": 7,
   "metadata": {},
   "outputs": [
    {
     "name": "stderr",
     "output_type": "stream",
     "text": [
      "C:\\Users\\Maria Jose- Javier\\Anaconda3\\lib\\site-packages\\ipykernel_launcher.py:4: SettingWithCopyWarning: \n",
      "A value is trying to be set on a copy of a slice from a DataFrame\n",
      "\n",
      "See the caveats in the documentation: http://pandas.pydata.org/pandas-docs/stable/indexing.html#indexing-view-versus-copy\n",
      "  after removing the cwd from sys.path.\n",
      "C:\\Users\\Maria Jose- Javier\\Anaconda3\\lib\\site-packages\\ipykernel_launcher.py:5: SettingWithCopyWarning: \n",
      "A value is trying to be set on a copy of a slice from a DataFrame\n",
      "\n",
      "See the caveats in the documentation: http://pandas.pydata.org/pandas-docs/stable/indexing.html#indexing-view-versus-copy\n",
      "  \"\"\"\n"
     ]
    }
   ],
   "source": [
    "data.dropna(axis=0, how='all', inplace=True)\n",
    "data.dropna(axis=1, how='all', inplace=True)"
   ]
  },
  {
   "cell_type": "markdown",
   "metadata": {},
   "source": [
    "Imputamos RIDAGEMN. Esta variable es la edad en meses y en pacientes mayores de 2 años no aparece este dato. \n",
    "Es una posible variable de interés para poder tener una edad más exacta.\n",
    "Así que en los registros que no existan, multiplicamos la edad en años, RIDAGEYR, por 12 para obtener los meses."
   ]
  },
  {
   "cell_type": "code",
   "execution_count": 8,
   "metadata": {},
   "outputs": [
    {
     "name": "stderr",
     "output_type": "stream",
     "text": [
      "C:\\Users\\Maria Jose- Javier\\Anaconda3\\lib\\site-packages\\pandas\\core\\generic.py:5096: SettingWithCopyWarning: \n",
      "A value is trying to be set on a copy of a slice from a DataFrame.\n",
      "Try using .loc[row_indexer,col_indexer] = value instead\n",
      "\n",
      "See the caveats in the documentation: http://pandas.pydata.org/pandas-docs/stable/indexing.html#indexing-view-versus-copy\n",
      "  self[name] = value\n"
     ]
    }
   ],
   "source": [
    "data.RIDAGEMN = data.RIDAGEMN.replace(np.nan, data.RIDAGEYR*12)"
   ]
  },
  {
   "cell_type": "markdown",
   "metadata": {},
   "source": [
    "Imputamos RIDEXAGM. Esta variable es la edad en meses en el momento del examen. Si el valor es nulo, \n",
    "lo imputamos con el valor de RIDAGEMN."
   ]
  },
  {
   "cell_type": "code",
   "execution_count": 9,
   "metadata": {},
   "outputs": [
    {
     "name": "stderr",
     "output_type": "stream",
     "text": [
      "C:\\Users\\Maria Jose- Javier\\Anaconda3\\lib\\site-packages\\pandas\\core\\generic.py:5096: SettingWithCopyWarning: \n",
      "A value is trying to be set on a copy of a slice from a DataFrame.\n",
      "Try using .loc[row_indexer,col_indexer] = value instead\n",
      "\n",
      "See the caveats in the documentation: http://pandas.pydata.org/pandas-docs/stable/indexing.html#indexing-view-versus-copy\n",
      "  self[name] = value\n"
     ]
    }
   ],
   "source": [
    "data.RIDEXAGM = data.RIDEXAGM.replace(np.nan, data.RIDAGEMN)"
   ]
  },
  {
   "cell_type": "markdown",
   "metadata": {},
   "source": [
    "Imputamos de nan de variablesMedications como el valor que más se repite."
   ]
  },
  {
   "cell_type": "code",
   "execution_count": 10,
   "metadata": {},
   "outputs": [],
   "source": [
    "for v in variablesMedications:\n",
    "    if data[v].isnull().sum() != 0:\n",
    "        data[v].fillna(value=data[v].value_counts().index[0], inplace=True)"
   ]
  },
  {
   "cell_type": "markdown",
   "metadata": {},
   "source": [
    "Para el resto de valores, hacemos distinción entre si la variable es numérica o categórica, para imputar por la media o por el valor más repetido repectivamente."
   ]
  },
  {
   "cell_type": "code",
   "execution_count": 11,
   "metadata": {},
   "outputs": [
    {
     "name": "stderr",
     "output_type": "stream",
     "text": [
      "C:\\Users\\Maria Jose- Javier\\Anaconda3\\lib\\site-packages\\pandas\\core\\generic.py:6130: SettingWithCopyWarning: \n",
      "A value is trying to be set on a copy of a slice from a DataFrame\n",
      "\n",
      "See the caveats in the documentation: http://pandas.pydata.org/pandas-docs/stable/indexing.html#indexing-view-versus-copy\n",
      "  self._update_inplace(new_data)\n"
     ]
    }
   ],
   "source": [
    "#Imputación de nan para el resto\n",
    "for column in data.columns:\n",
    "    if data[column].isnull().sum() != 0:\n",
    "        if data[column].dtype==object:\n",
    "            data[column].fillna(value=data[column].value_counts().index[0], inplace =True)\n",
    "        else:\n",
    "            data[column].fillna(data[column].median(),inplace =True)"
   ]
  },
  {
   "cell_type": "markdown",
   "metadata": {},
   "source": [
    "Hallamos la matriz de correlación."
   ]
  },
  {
   "cell_type": "code",
   "execution_count": 12,
   "metadata": {},
   "outputs": [],
   "source": [
    "matrizCorrelacion = data.corr()"
   ]
  },
  {
   "cell_type": "markdown",
   "metadata": {},
   "source": [
    "Sacamos las variables que están relacionadas como aquellas cuya correlación sea mayor o igual a 0.8"
   ]
  },
  {
   "cell_type": "code",
   "execution_count": 14,
   "metadata": {},
   "outputs": [
    {
     "data": {
      "text/plain": [
       "[[['RIDEXAGM', 'RIDAGEMN'], 0.9999710894656363],\n",
       " [['RIDEXAGM', 'RIDAGEYR'], 0.9999710262472322],\n",
       " [['BMXBMI', 'BMXWAIST'], 0.8675863340983514],\n",
       " [['BMXBMI', 'BMXWT'], 0.8476111025441124],\n",
       " [['BMXWAIST', 'BMXWT'], 0.8289945865634065],\n",
       " [['CBD070', 'CBD090'], 0.929024878355],\n",
       " [['DR1TCARB', 'DR1TKCAL'], 0.8836201252562111],\n",
       " [['DR1TCARB', 'DR1TSUGR'], 0.8565457786093096],\n",
       " [['DR1TCHL', 'DR1TCHOL'], 0.88030065049964],\n",
       " [['DR1TCHL', 'DR1TP204'], 0.8081693839519434],\n",
       " [['DR1TCHL', 'DR1TPROT'], 0.8167025100470946],\n",
       " [['DR1TCHOL', 'DR1TP204'], 0.9071426818854488],\n",
       " [['DR1TFA', 'DR1TFDFE'], 0.9166653459610049],\n",
       " [['DR1TFA', 'DR1TFOLA'], 0.8163829812334826],\n",
       " [['DR1TFDFE', 'DR1TFOLA'], 0.9791433034841055],\n",
       " [['DR1TKCAL', 'DR1TM181'], 0.8343841514527328],\n",
       " [['DR1TKCAL', 'DR1TMFAT'], 0.8476812620318654],\n",
       " [['DR1TKCAL', 'DR1TPHOS'], 0.8422369669551835],\n",
       " [['DR1TKCAL', 'DR1TS160'], 0.8561690179377299],\n",
       " [['DR1TKCAL', 'DR1TS180'], 0.8305754785131776],\n",
       " [['DR1TKCAL', 'DR1TSFAT'], 0.8346930382794032],\n",
       " [['DR1TKCAL', 'DR1TTFAT'], 0.8965570002918656],\n",
       " [['DR1TLZ', 'DR1TVK'], 0.9186642625551914],\n",
       " [['DR1TM181', 'DR1TMFAT'], 0.9887273602599318],\n",
       " [['DR1TM181', 'DR1TP182'], 0.834445200685459],\n",
       " [['DR1TM181', 'DR1TPFAT'], 0.8295886845980383],\n",
       " [['DR1TM181', 'DR1TS160'], 0.8373367633563438],\n",
       " [['DR1TM181', 'DR1TS180'], 0.8171334070797575],\n",
       " [['DR1TM181', 'DR1TSFAT'], 0.8024208053512673],\n",
       " [['DR1TM181', 'DR1TTFAT'], 0.9520244964100996],\n",
       " [['DR1TMAGN', 'DR1TPOTA'], 0.8425388269944881],\n",
       " [['DR1TMFAT', 'DR1TP182'], 0.8195250209241692],\n",
       " [['DR1TMFAT', 'DR1TPFAT'], 0.8156484014153618],\n",
       " [['DR1TMFAT', 'DR1TS160'], 0.8630030043598175],\n",
       " [['DR1TMFAT', 'DR1TS180'], 0.8444357148017908],\n",
       " [['DR1TMFAT', 'DR1TSFAT'], 0.8306162097945202],\n",
       " [['DR1TMFAT', 'DR1TTFAT'], 0.9645656818619478],\n",
       " [['DR1TNIAC', 'DR1TVB6'], 0.8423270057040203],\n",
       " [['DR1TP182', 'DR1TP183'], 0.8641165097162119],\n",
       " [['DR1TP182', 'DR1TPFAT'], 0.9977537481872101],\n",
       " [['DR1TP182', 'DR1TTFAT'], 0.8678431090455812],\n",
       " [['DR1TP183', 'DR1TPFAT'], 0.8882325783553329],\n",
       " [['DR1TP205', 'DR1TP226'], 0.9071001159701894],\n",
       " [['DR1TP225', 'DR1TP226'], 0.841283761357697],\n",
       " [['DR1TPFAT', 'DR1TTFAT'], 0.8682943984317356],\n",
       " [['DR1TPHOS', 'DR1TPOTA'], 0.800999077210129],\n",
       " [['DR1TPHOS', 'DR1TPROT'], 0.8918814364281406],\n",
       " [['DR1TPROT', 'DR1TSELE'], 0.8586357304851469],\n",
       " [['DR1TS040', 'DR1TS060'], 0.9433130516277528],\n",
       " [['DR1TS040', 'DR1TS140'], 0.9024999663299825],\n",
       " [['DR1TS060', 'DR1TS140'], 0.9072792186026819],\n",
       " [['DR1TS080', 'DR1TS100'], 0.8338282353679756],\n",
       " [['DR1TS140', 'DR1TSFAT'], 0.8790044466002481],\n",
       " [['DR1TS160', 'DR1TS180'], 0.9454012396561662],\n",
       " [['DR1TS160', 'DR1TSFAT'], 0.9746014694865693],\n",
       " [['DR1TS160', 'DR1TTFAT'], 0.932850302893115],\n",
       " [['DR1TS180', 'DR1TSFAT'], 0.9604176616039498],\n",
       " [['DR1TS180', 'DR1TTFAT'], 0.9039876532156238],\n",
       " [['DR1TSFAT', 'DR1TTFAT'], 0.911086321377002],\n",
       " [['DRD370PQ', 'RXDRSC1_A15'], 0.8660254067685492],\n",
       " [['FSD032A', 'FSD032B'], 0.8154312875462606],\n",
       " [['INDFMMPI', 'INDFMPIR'], 0.8735477671894537],\n",
       " [['LBDHDD', 'LBDHDDSI'], 0.9999766821661253],\n",
       " [['LBDLDL', 'LBDLDLSI'], 0.9999999141140744],\n",
       " [['LBDSCHSI', 'LBDTCSI'], 0.931116369552859],\n",
       " [['LBDSCHSI', 'LBXSCH'], 0.9999999627281284],\n",
       " [['LBDSCHSI', 'LBXTC'], 0.9311042341046439],\n",
       " [['LBDTCSI', 'LBXSCH'], 0.9311090716361883],\n",
       " [['LBDTCSI', 'LBXTC'], 0.999996634957955],\n",
       " [['LBXSCH', 'LBXTC'], 0.9310969530661578],\n",
       " [['PAQ762', 'RXDRSC1_R29.90'], 0.883754722698898],\n",
       " [['RIDAGEMN', 'RIDAGEYR'], 0.9999940551689572],\n",
       " [['RIDRETH1', 'RIDRETH3'], 0.964629711400703],\n",
       " [['SMD100CO', 'SMD100TR'], 0.8182548244560965],\n",
       " [['SMD100NI', 'SMD100TR'], 0.8840416401762298],\n",
       " [['SMDANY', 'SMQ681'], 0.9323819912184489],\n",
       " [['SMQ710', 'SMQ725'], -0.8190152223224009],\n",
       " [['RXDRSC1_A44.9', 'RXDRSC1_A69.2'], 0.8163948684912153],\n",
       " [['RXDRSC1_C74', 'RXDRSC1_R20.0'], 1.0],\n",
       " [['RXDRSC1_C74', 'RXDRSC1_Z51.11'], 1.0],\n",
       " [['RXDRSC1_D25.P', 'RXDRSC1_Z94.0'], 1.0],\n",
       " [['RXDRSC1_D35.2', 'RXDRSC1_E27.40'], 1.0],\n",
       " [['RXDRSC1_I49.1', 'RXDRSC1_K91.5'], 1.0],\n",
       " [['RXDRSC1_K12.2', 'RXDRSC1_M25.52'], 1.0],\n",
       " [['RXDRSC1_R20.0', 'RXDRSC1_Z51.11'], 1.0]]"
      ]
     },
     "execution_count": 14,
     "metadata": {},
     "output_type": "execute_result"
    }
   ],
   "source": [
    "variablesCorreladas = list()\n",
    "for i in range(len(matrizCorrelacion)):\n",
    "    var1 = matrizCorrelacion.columns[i]\n",
    "    for j in range(len(matrizCorrelacion)):\n",
    "        var2 = matrizCorrelacion.columns[j]\n",
    "        elemento = matrizCorrelacion.iloc[i,j]\n",
    "        if (i<j) & (abs(elemento) >= 0.8):\n",
    "            l = list()\n",
    "            l.append([var1, var2])\n",
    "            l.append(elemento)\n",
    "            variablesCorreladas.append(l)\n",
    "variablesCorreladas"
   ]
  },
  {
   "cell_type": "markdown",
   "metadata": {},
   "source": [
    "Eliminamos las variables que están relacionadas, excepto si son enfermedades."
   ]
  },
  {
   "cell_type": "code",
   "execution_count": 15,
   "metadata": {},
   "outputs": [
    {
     "name": "stderr",
     "output_type": "stream",
     "text": [
      "C:\\Users\\Maria Jose- Javier\\Anaconda3\\lib\\site-packages\\pandas\\core\\frame.py:3940: SettingWithCopyWarning: \n",
      "A value is trying to be set on a copy of a slice from a DataFrame\n",
      "\n",
      "See the caveats in the documentation: http://pandas.pydata.org/pandas-docs/stable/indexing.html#indexing-view-versus-copy\n",
      "  errors=errors)\n"
     ]
    }
   ],
   "source": [
    "for i in variablesCorreladas:\n",
    "    if (i[0][1] in data.columns) & (i[0][1] not in variablesMedications):\n",
    "        data.drop([i[0][1]], axis = 1, inplace=True)"
   ]
  },
  {
   "cell_type": "markdown",
   "metadata": {},
   "source": [
    "Convertimos las variables categóricas a numéricas."
   ]
  },
  {
   "cell_type": "code",
   "execution_count": 16,
   "metadata": {},
   "outputs": [],
   "source": [
    "data = pd.get_dummies(data)"
   ]
  },
  {
   "cell_type": "markdown",
   "metadata": {},
   "source": [
    "Definimos los pacientes que no sean hipertensivos como 0 y los que si lo son como 1. La hipertensión está diagnosticada dentro de la variable RXDRSC1_I10"
   ]
  },
  {
   "cell_type": "code",
   "execution_count": 17,
   "metadata": {},
   "outputs": [],
   "source": [
    "data.rename(columns={'RXDRSC1_I10':'is_hypertensive'}, inplace=True)"
   ]
  },
  {
   "cell_type": "code",
   "execution_count": 18,
   "metadata": {},
   "outputs": [],
   "source": [
    "X = data.drop(['is_hypertensive'], axis=1)\n",
    "y = data.is_hypertensive"
   ]
  },
  {
   "cell_type": "markdown",
   "metadata": {},
   "source": [
    "Normalizamos los datos con StandardScaler()"
   ]
  },
  {
   "cell_type": "code",
   "execution_count": 19,
   "metadata": {},
   "outputs": [
    {
     "name": "stderr",
     "output_type": "stream",
     "text": [
      "C:\\Users\\Maria Jose- Javier\\Anaconda3\\lib\\site-packages\\sklearn\\preprocessing\\data.py:645: DataConversionWarning: Data with input dtype uint8, int64, float64 were all converted to float64 by StandardScaler.\n",
      "  return self.partial_fit(X, y)\n",
      "C:\\Users\\Maria Jose- Javier\\Anaconda3\\lib\\site-packages\\sklearn\\base.py:464: DataConversionWarning: Data with input dtype uint8, int64, float64 were all converted to float64 by StandardScaler.\n",
      "  return self.fit(X, **fit_params).transform(X)\n"
     ]
    }
   ],
   "source": [
    "scaler = StandardScaler()\n",
    "XN = scaler.fit_transform(X)"
   ]
  },
  {
   "cell_type": "code",
   "execution_count": 20,
   "metadata": {},
   "outputs": [],
   "source": [
    "XN = pd.DataFrame(data=XN, columns=X.columns)"
   ]
  },
  {
   "cell_type": "code",
   "execution_count": 21,
   "metadata": {},
   "outputs": [],
   "source": [
    "X_train, X_test, y_train, y_test = train_test_split(XN, y, test_size=1/3, random_state=158)"
   ]
  },
  {
   "cell_type": "markdown",
   "metadata": {},
   "source": [
    "Definimos la función para que nos muestre la matriz de confusión gráficamente."
   ]
  },
  {
   "cell_type": "code",
   "execution_count": 22,
   "metadata": {},
   "outputs": [],
   "source": [
    "def matrizConfusion(Ytest, prediccion):\n",
    "    matrizConf = confusion_matrix(Ytest, prediccion)\n",
    "    fig, ax = plot_confusion_matrix(conf_mat=matrizConf)\n",
    "plt.show()"
   ]
  },
  {
   "cell_type": "markdown",
   "metadata": {},
   "source": [
    "Definimos una función que nos devuelva el valor de los verdaderos y falsos positivos y negativos."
   ]
  },
  {
   "cell_type": "code",
   "execution_count": 23,
   "metadata": {},
   "outputs": [],
   "source": [
    "def matrizConfusionValores(YTest, prediccion):\n",
    "    m = confusion_matrix(YTest, prediccion)\n",
    "    TN = m[0][0]\n",
    "    TP = m[1][1]\n",
    "    FP = m[0][1]\n",
    "    FN = m[1][0]\n",
    "    return [TN, TP, FP, FN]\n",
    "\n",
    "#     print('Verdaderos Positivos: {}'.format(TP))\n",
    "#     print('Verdaderos Negativos: {}'.format(TN))\n",
    "#     print('Falsos Positivos: {}'.format(FP))\n",
    "#     print('Falsos Negativos: {}'.format(FN))"
   ]
  },
  {
   "cell_type": "markdown",
   "metadata": {},
   "source": [
    "Definimos una función que nos devuelvan las métricas derivadas de la matriz de confusión."
   ]
  },
  {
   "cell_type": "code",
   "execution_count": 24,
   "metadata": {},
   "outputs": [],
   "source": [
    "def metricas(lista):\n",
    "    ACC = (lista[0] + lista[1])/(lista[0] + lista[1] + lista[2] + lista[3])\n",
    "    ERR = ACC - 1\n",
    "    TPR = lista[1]/(lista[1] + lista[3])\n",
    "    #TPR = SEN (sensibilidad) = REC (recall=recuperacion)\n",
    "    FPR = lista[2]/(lista[0] + lista[2])\n",
    "    PRE = lista[1]/(lista[1] + lista[2])\n",
    "    SPE = 1 - FPR\n",
    "    F1 = (2* PRE * TPR)/(PRE + TPR)\n",
    "    \n",
    "    print('Accuracy: {}'.format(ACC*100))\n",
    "    print('Misclassification error: {}'.format(ERR*100))\n",
    "    print('True Positive Rate/Recall/Sensitivity: {}'.format(TPR*100))\n",
    "    print('False Positive Rate: {}'.format(FPR*100))\n",
    "    print('Precision: {}'.format(PRE*100))  \n",
    "    print('Specificity: {}'.format(SPE*100))\n",
    "    print('F1 score: {}'.format(F1*100))   "
   ]
  },
  {
   "cell_type": "markdown",
   "metadata": {},
   "source": [
    "## SVC"
   ]
  },
  {
   "cell_type": "code",
   "execution_count": null,
   "metadata": {},
   "outputs": [],
   "source": [
    "# class sklearn.svm.SVC(C=1.0, kernel=’rbf’, degree=3, gamma=’auto_deprecated’, coef0=0.0, shrinking=True, probability=False,\n",
    "#                       tol=0.001, cache_size=200, class_weight=None, verbose=False, max_iter=-1,\n",
    "#                       decision_function_shape=’ovr’, random_state=None"
   ]
  },
  {
   "cell_type": "markdown",
   "metadata": {},
   "source": [
    "RandomizedSearchCV"
   ]
  },
  {
   "cell_type": "code",
   "execution_count": 25,
   "metadata": {},
   "outputs": [
    {
     "data": {
      "text/plain": [
       "RandomizedSearchCV(cv=10, error_score='raise-deprecating',\n",
       "          estimator=SVC(C=1.0, cache_size=200, class_weight=None, coef0=0.0,\n",
       "  decision_function_shape='ovr', degree=3, gamma='auto_deprecated',\n",
       "  kernel='rbf', max_iter=-1, probability=False, random_state=None,\n",
       "  shrinking=True, tol=0.001, verbose=False),\n",
       "          fit_params=None, iid='warn', n_iter=10, n_jobs=None,\n",
       "          param_distributions={'C': array([ 97.2526 ,  63.05337, 169.33773,  64.77929, 125.92643]), 'gamma': array([38.80504, 61.83093, 40.41545, 11.86048, 99.44276])},\n",
       "          pre_dispatch='2*n_jobs', random_state=None, refit=True,\n",
       "          return_train_score='warn', scoring=None, verbose=0)"
      ]
     },
     "execution_count": 25,
     "metadata": {},
     "output_type": "execute_result"
    }
   ],
   "source": [
    "parametrosSVCRS = {'C': uniform(1, 200, 5), 'gamma': uniform(0.001, 100, 5)}\n",
    "SVC = SVC()\n",
    "\n",
    "SVCRS = RandomizedSearchCV(SVC, param_distributions = parametrosSVCRS, cv = 10)\n",
    "\n",
    "SVCRS.fit(X_train, y_train)"
   ]
  },
  {
   "cell_type": "code",
   "execution_count": 26,
   "metadata": {},
   "outputs": [
    {
     "name": "stdout",
     "output_type": "stream",
     "text": [
      "Valor óptimo para C: 63.05336956184319\n",
      "Valor óptimo para gamma: 99.4427624643569\n"
     ]
    }
   ],
   "source": [
    "print('Valor óptimo para C: {}'.format(SVCRS.best_params_['C']))\n",
    "print('Valor óptimo para gamma: {}'.format(SVCRS.best_params_['gamma']))"
   ]
  },
  {
   "cell_type": "code",
   "execution_count": 29,
   "metadata": {},
   "outputs": [
    {
     "name": "stdout",
     "output_type": "stream",
     "text": [
      "Precisión en el conjunto de test: 58.25%\n"
     ]
    }
   ],
   "source": [
    "SVCRSBest = SVC(C=SVCRS.best_params_['C'], gamma=SVCRS.best_params_['gamma'])\n",
    "SVCRSBest.fit(X_train, y_train)\n",
    "\n",
    "predsSVCRS = SVCRSBest.predict(X_test)\n",
    "\n",
    "accuracySVCRS = np.true_divide(np.sum(predsSVCRS == y_test), predsSVCRS.shape[0])*100\n",
    "print('Precisión en el conjunto de test: {:.2f}%'.format(accuracySVCRS))"
   ]
  },
  {
   "cell_type": "markdown",
   "metadata": {},
   "source": [
    "GridSearchCV"
   ]
  },
  {
   "cell_type": "code",
   "execution_count": 30,
   "metadata": {},
   "outputs": [
    {
     "data": {
      "text/plain": [
       "GridSearchCV(cv=10, error_score='raise-deprecating',\n",
       "       estimator=SVC(C=1.0, cache_size=200, class_weight=None, coef0=0.0,\n",
       "  decision_function_shape='ovr', degree=3, gamma='auto_deprecated',\n",
       "  kernel='rbf', max_iter=-1, probability=False, random_state=None,\n",
       "  shrinking=True, tol=0.001, verbose=False),\n",
       "       fit_params=None, iid='warn', n_jobs=None,\n",
       "       param_grid={'C': [25, 39, 65], 'gamma': [20, 99, 100]},\n",
       "       pre_dispatch='2*n_jobs', refit=True, return_train_score='warn',\n",
       "       scoring=None, verbose=0)"
      ]
     },
     "execution_count": 30,
     "metadata": {},
     "output_type": "execute_result"
    }
   ],
   "source": [
    "parametrosSVCGD = {'C': [25, 39, 65], 'gamma': [20, 99, 100]}\n",
    "SVCGB = GridSearchCV(SVC(), param_grid=parametrosSVCGD, cv=10)\n",
    "SVCGB.fit(X_train, y_train)"
   ]
  },
  {
   "cell_type": "code",
   "execution_count": 31,
   "metadata": {},
   "outputs": [],
   "source": [
    "means = SVCGB.cv_results_['mean_test_score']\n",
    "stds = SVCGB.cv_results_['std_test_score']\n",
    "params = SVCGB.cv_results_['params']\n",
    "ranks = SVCGB.cv_results_['rank_test_score']"
   ]
  },
  {
   "cell_type": "code",
   "execution_count": 32,
   "metadata": {},
   "outputs": [
    {
     "name": "stdout",
     "output_type": "stream",
     "text": [
      "1) Precisión media: 61.30 +/- 0.11 con parámetros {'C': 25, 'gamma': 20}\n",
      "1) Precisión media: 61.30 +/- 0.11 con parámetros {'C': 25, 'gamma': 99}\n",
      "1) Precisión media: 61.30 +/- 0.11 con parámetros {'C': 25, 'gamma': 100}\n",
      "1) Precisión media: 61.30 +/- 0.11 con parámetros {'C': 39, 'gamma': 20}\n",
      "1) Precisión media: 61.30 +/- 0.11 con parámetros {'C': 39, 'gamma': 99}\n",
      "1) Precisión media: 61.30 +/- 0.11 con parámetros {'C': 39, 'gamma': 100}\n",
      "1) Precisión media: 61.30 +/- 0.11 con parámetros {'C': 65, 'gamma': 20}\n",
      "1) Precisión media: 61.30 +/- 0.11 con parámetros {'C': 65, 'gamma': 99}\n",
      "1) Precisión media: 61.30 +/- 0.11 con parámetros {'C': 65, 'gamma': 100}\n"
     ]
    }
   ],
   "source": [
    "for rank, mean, std, pms in zip(ranks, means, stds, params):\n",
    "    print('{}) Precisión media: {:.2f} +/- {:.2f} con parámetros {}'.format(rank, mean*100, std*100, pms))"
   ]
  },
  {
   "cell_type": "code",
   "execution_count": 33,
   "metadata": {},
   "outputs": [
    {
     "name": "stdout",
     "output_type": "stream",
     "text": [
      "Valor óptimo para C: 25\n",
      "Valor óptimo para gamma: 20\n"
     ]
    }
   ],
   "source": [
    "print('Valor óptimo para C: {}'.format(SVCGB.best_params_['C']))\n",
    "print('Valor óptimo para gamma: {}'.format(SVCGB.best_params_['gamma']))"
   ]
  },
  {
   "cell_type": "code",
   "execution_count": 34,
   "metadata": {},
   "outputs": [
    {
     "name": "stdout",
     "output_type": "stream",
     "text": [
      "Precisión en el conjunto de test: 58.25%\n"
     ]
    }
   ],
   "source": [
    "SVCBestGS = SVC(C=SVCGB.best_params_['C'], gamma=SVCGB.best_params_['gamma'])\n",
    "SVCBestGS.fit(X_train, y_train)\n",
    "\n",
    "predsSVCGS = SVCBestGS.predict(X_test)\n",
    "\n",
    "accuracy = np.true_divide(np.sum(predsSVCGS == y_test), predsSVCGS.shape[0])*100\n",
    "print('Precisión en el conjunto de test: {:.2f}%'.format(accuracy))"
   ]
  },
  {
   "cell_type": "code",
   "execution_count": 35,
   "metadata": {},
   "outputs": [
    {
     "data": {
      "image/png": "[encoded data removed]",
      "text/plain": [
       "<matplotlib.figure.Figure at 0x18788001e10>"
      ]
     },
     "metadata": {},
     "output_type": "display_data"
    }
   ],
   "source": [
    "matrizConfusion(y_test, predsSVCGS)  "
   ]
  },
  {
   "cell_type": "code",
   "execution_count": 36,
   "metadata": {},
   "outputs": [
    {
     "name": "stdout",
     "output_type": "stream",
     "text": [
      "Verdaderos Negativos: 780\n",
      "Verdaderos Positivos: 0\n",
      "Falsos Positivos: 0\n",
      "Falsos Negativos: 559\n",
      "\n",
      "\n",
      "Accuracy: 58.252427184466015\n",
      "Misclassification error: -41.747572815533985\n",
      "True Positive Rate/Recall/Sensitivity: 0.0\n",
      "False Positive Rate: 0.0\n",
      "Precision: nan\n",
      "Specificity: 100.0\n",
      "F1 score: nan\n"
     ]
    },
    {
     "name": "stderr",
     "output_type": "stream",
     "text": [
      "C:\\Users\\Maria Jose- Javier\\Anaconda3\\lib\\site-packages\\ipykernel_launcher.py:8: RuntimeWarning: invalid value encountered in longlong_scalars\n",
      "  \n"
     ]
    }
   ],
   "source": [
    "m = matrizConfusionValores(y_test, predsSVCGS)\n",
    "print('Verdaderos Negativos: {}'.format(m[0]))\n",
    "print('Verdaderos Positivos: {}'.format(m[1]))\n",
    "print('Falsos Positivos: {}'.format(m[2]))\n",
    "print('Falsos Negativos: {}'.format(m[3]))\n",
    "print(\"\"\"\n",
    "\"\"\")\n",
    "metricas(m)"
   ]
  },
  {
   "cell_type": "markdown",
   "metadata": {},
   "source": [
    "## GradientBoostingClassifier"
   ]
  },
  {
   "cell_type": "code",
   "execution_count": null,
   "metadata": {},
   "outputs": [],
   "source": [
    "# GradientBoostingClassifier(loss=’deviance’, learning_rate=0.1, n_estimators=100, subsample=1.0, criterion=’friedman_mse’,\n",
    "# min_samples_split=2, min_samples_leaf=1, min_weight_fraction_leaf=0.0, max_depth=3, min_impurity_decrease=0.0, \n",
    "# min_impurity_split=None, init=None, random_state=None, max_features=None, verbose=0, max_leaf_nodes=None,\n",
    "# warm_start=False, presort=’auto’, validation_fraction=0.1, n_iter_no_change=None, tol=0.0001"
   ]
  },
  {
   "cell_type": "markdown",
   "metadata": {},
   "source": [
    "RandomizedSearchCV"
   ]
  },
  {
   "cell_type": "code",
   "execution_count": 37,
   "metadata": {},
   "outputs": [
    {
     "data": {
      "text/plain": [
       "RandomizedSearchCV(cv=10, error_score='raise-deprecating',\n",
       "          estimator=GradientBoostingClassifier(criterion='friedman_mse', init=None,\n",
       "              learning_rate=0.1, loss='deviance', max_depth=3,\n",
       "              max_features=None, max_leaf_nodes=None,\n",
       "              min_impurity_decrease=0.0, min_impurity_split=None,\n",
       "              min_samples_leaf=1, min_sampl...      subsample=1.0, tol=0.0001, validation_fraction=0.1,\n",
       "              verbose=0, warm_start=False),\n",
       "          fit_params=None, iid='warn', n_iter=10, n_jobs=None,\n",
       "          param_distributions={'learning_rate': array([0.76466, 0.07261, 0.03582, 0.88721, 0.04233, 0.96465, 0.61764,\n",
       "       0.08911, 0.8571 , 0.53203, 0.22324, 0.89931, 0.8476 , 0.38937,\n",
       "       0.45862, 0.19273, 0.97014, 0.84465, 0.51377, 0.8228 , 0.62081,\n",
       "       0.12915, 0.47874, 0.60191, 0.30668, 0.76327, ...4361, 0.66821, 0.05643, 0.65847, 0.60753, 0.62752,\n",
       "       0.49188]), 'n_estimators': range(50, 150)},\n",
       "          pre_dispatch='2*n_jobs', random_state=None, refit=True,\n",
       "          return_train_score='warn', scoring=None, verbose=0)"
      ]
     },
     "execution_count": 37,
     "metadata": {},
     "output_type": "execute_result"
    }
   ],
   "source": [
    "parametrosGBRS = {'learning_rate': uniform(0.01, 1, 50), 'n_estimators': range(50, 150)}\n",
    "gbc = GradientBoostingClassifier()\n",
    "\n",
    "GBRS = RandomizedSearchCV(gbc, param_distributions = parametrosGBRS, cv = 10)\n",
    "\n",
    "GBRS.fit(X_train, y_train)"
   ]
  },
  {
   "cell_type": "code",
   "execution_count": 38,
   "metadata": {},
   "outputs": [
    {
     "name": "stdout",
     "output_type": "stream",
     "text": [
      "Valor óptimo para learning_rate: 0.13202878668782944\n",
      "Valor óptimo para n_estimators: 102\n"
     ]
    }
   ],
   "source": [
    "print('Valor óptimo para learning_rate: {}'.format(GBRS.best_params_['learning_rate']))\n",
    "print('Valor óptimo para n_estimators: {}'.format(GBRS.best_params_['n_estimators']))"
   ]
  },
  {
   "cell_type": "code",
   "execution_count": 39,
   "metadata": {},
   "outputs": [
    {
     "name": "stdout",
     "output_type": "stream",
     "text": [
      "Precisión en el conjunto de test: 76.77%\n"
     ]
    }
   ],
   "source": [
    "GBRSBest = GradientBoostingClassifier(learning_rate=GBRS.best_params_['learning_rate'], \n",
    "                                     n_estimators=GBRS.best_params_['n_estimators'])\n",
    "GBRSBest.fit(X_train, y_train)\n",
    "\n",
    "predsGBRS = GBRSBest.predict(X_test)\n",
    "\n",
    "accuracyGBRS = np.true_divide(np.sum(predsGBRS==y_test), predsGBRS.shape[0])*100\n",
    "print('Precisión en el conjunto de test: {:.2f}%'.format(accuracyGBRS))"
   ]
  },
  {
   "cell_type": "markdown",
   "metadata": {},
   "source": [
    "GridSearchCV"
   ]
  },
  {
   "cell_type": "code",
   "execution_count": 40,
   "metadata": {},
   "outputs": [
    {
     "data": {
      "text/plain": [
       "GridSearchCV(cv=10, error_score='raise-deprecating',\n",
       "       estimator=GradientBoostingClassifier(criterion='friedman_mse', init=None,\n",
       "              learning_rate=0.1, loss='deviance', max_depth=3,\n",
       "              max_features=None, max_leaf_nodes=None,\n",
       "              min_impurity_decrease=0.0, min_impurity_split=None,\n",
       "              min_samples_leaf=1, min_sampl...      subsample=1.0, tol=0.0001, validation_fraction=0.1,\n",
       "              verbose=0, warm_start=False),\n",
       "       fit_params=None, iid='warn', n_jobs=None,\n",
       "       param_grid={'learning_rate': [0.084, 0.1, 0.13, 0.2], 'n_estimators': [96, 102, 110]},\n",
       "       pre_dispatch='2*n_jobs', refit=True, return_train_score='warn',\n",
       "       scoring=None, verbose=0)"
      ]
     },
     "execution_count": 40,
     "metadata": {},
     "output_type": "execute_result"
    }
   ],
   "source": [
    "parametrosGBGD = {'learning_rate': [0.084, 0.1, 0.13, 0.2], 'n_estimators': [96, 102, 110]}\n",
    "GBGS = GridSearchCV(GradientBoostingClassifier(), param_grid=parametrosGBGD, cv=10)\n",
    "GBGS.fit(X_train, y_train)"
   ]
  },
  {
   "cell_type": "code",
   "execution_count": 41,
   "metadata": {},
   "outputs": [],
   "source": [
    "means = GBGS.cv_results_['mean_test_score']\n",
    "stds = GBGS.cv_results_['std_test_score']\n",
    "params = GBGS.cv_results_['params']\n",
    "ranks = GBGS.cv_results_['rank_test_score']"
   ]
  },
  {
   "cell_type": "code",
   "execution_count": 42,
   "metadata": {},
   "outputs": [
    {
     "name": "stdout",
     "output_type": "stream",
     "text": [
      "9) Precisión media: 78.07 +/- 2.63 con parámetros {'learning_rate': 0.084, 'n_estimators': 96}\n",
      "11) Precisión media: 77.89 +/- 2.45 con parámetros {'learning_rate': 0.084, 'n_estimators': 102}\n",
      "7) Precisión media: 78.30 +/- 2.24 con parámetros {'learning_rate': 0.084, 'n_estimators': 110}\n",
      "2) Precisión media: 78.67 +/- 2.36 con parámetros {'learning_rate': 0.1, 'n_estimators': 96}\n",
      "1) Precisión media: 78.71 +/- 2.08 con parámetros {'learning_rate': 0.1, 'n_estimators': 102}\n",
      "4) Precisión media: 78.56 +/- 2.25 con parámetros {'learning_rate': 0.1, 'n_estimators': 110}\n",
      "5) Precisión media: 78.41 +/- 2.29 con parámetros {'learning_rate': 0.13, 'n_estimators': 96}\n",
      "3) Precisión media: 78.63 +/- 2.45 con parámetros {'learning_rate': 0.13, 'n_estimators': 102}\n",
      "8) Precisión media: 78.18 +/- 2.44 con parámetros {'learning_rate': 0.13, 'n_estimators': 110}\n",
      "6) Precisión media: 78.33 +/- 2.09 con parámetros {'learning_rate': 0.2, 'n_estimators': 96}\n",
      "10) Precisión media: 77.96 +/- 2.21 con parámetros {'learning_rate': 0.2, 'n_estimators': 102}\n",
      "12) Precisión media: 77.70 +/- 2.18 con parámetros {'learning_rate': 0.2, 'n_estimators': 110}\n"
     ]
    }
   ],
   "source": [
    "for rank, mean, std, pms in zip(ranks, means, stds, params):\n",
    "    print('{}) Precisión media: {:.2f} +/- {:.2f} con parámetros {}'.format(rank, mean*100, std*100, pms))"
   ]
  },
  {
   "cell_type": "code",
   "execution_count": 43,
   "metadata": {},
   "outputs": [
    {
     "name": "stdout",
     "output_type": "stream",
     "text": [
      "Valor óptimo para learning_rate: 0.1\n",
      "Valor óptimo para n_estimators: 102\n"
     ]
    }
   ],
   "source": [
    "print('Valor óptimo para learning_rate: {}'.format(GBGS.best_params_['learning_rate']))\n",
    "print('Valor óptimo para n_estimators: {}'.format(GBGS.best_params_['n_estimators']))"
   ]
  },
  {
   "cell_type": "code",
   "execution_count": 44,
   "metadata": {},
   "outputs": [
    {
     "name": "stdout",
     "output_type": "stream",
     "text": [
      "Precisión en el conjunto de test: 75.95%\n"
     ]
    }
   ],
   "source": [
    "GBGSBest = GradientBoostingClassifier(learning_rate=GBGS.best_params_['learning_rate'],\n",
    "                                          n_estimators=GBGS.best_params_['n_estimators'])\n",
    "GBGSBest.fit(X_train, y_train)\n",
    "\n",
    "predsGBGS = GBGSBest.predict(X_test)\n",
    "\n",
    "accuracyGBGS = np.true_divide(np.sum(predsGBGS==y_test), predsGBGS.shape[0])*100\n",
    "print('Precisión en el conjunto de test: {:.2f}%'.format(accuracyGBGS))"
   ]
  },
  {
   "cell_type": "code",
   "execution_count": 45,
   "metadata": {},
   "outputs": [
    {
     "data": {
      "image/png": "[encoded data removed]",
      "text/plain": [
       "<matplotlib.figure.Figure at 0x1878a97e7f0>"
      ]
     },
     "metadata": {},
     "output_type": "display_data"
    }
   ],
   "source": [
    "matrizConfusion(y_test, predsGBGS)"
   ]
  },
  {
   "cell_type": "code",
   "execution_count": 46,
   "metadata": {},
   "outputs": [
    {
     "name": "stdout",
     "output_type": "stream",
     "text": [
      "Verdaderos Negativos: 604\n",
      "Verdaderos Positivos: 413\n",
      "Falsos Positivos: 176\n",
      "Falsos Negativos: 146\n",
      "\n",
      "\n",
      "Accuracy: 75.95220313666916\n",
      "Misclassification error: -24.047796863330838\n",
      "True Positive Rate/Recall/Sensitivity: 73.8819320214669\n",
      "False Positive Rate: 22.564102564102566\n",
      "Precision: 70.11884550084889\n",
      "Specificity: 77.43589743589745\n",
      "F1 score: 71.95121951219512\n"
     ]
    }
   ],
   "source": [
    "m = matrizConfusionValores(y_test, predsGBGS)\n",
    "print('Verdaderos Negativos: {}'.format(m[0]))\n",
    "print('Verdaderos Positivos: {}'.format(m[1]))\n",
    "print('Falsos Positivos: {}'.format(m[2]))\n",
    "print('Falsos Negativos: {}'.format(m[3]))\n",
    "print(\"\"\"\n",
    "\"\"\")\n",
    "metricas(m)"
   ]
  },
  {
   "cell_type": "markdown",
   "metadata": {},
   "source": [
    "## AdaBoost"
   ]
  },
  {
   "cell_type": "code",
   "execution_count": null,
   "metadata": {},
   "outputs": [],
   "source": [
    "# sklearn.ensemble.AdaBoostClassifier(base_estimator=None, n_estimators=50, learning_rate=1.0, algorithm=’SAMME.R’, \n",
    "#                                     random_state=None)"
   ]
  },
  {
   "cell_type": "markdown",
   "metadata": {},
   "source": [
    "RandomizedSearchCV"
   ]
  },
  {
   "cell_type": "code",
   "execution_count": 47,
   "metadata": {},
   "outputs": [
    {
     "data": {
      "text/plain": [
       "RandomizedSearchCV(cv=10, error_score='raise-deprecating',\n",
       "          estimator=AdaBoostClassifier(algorithm='SAMME.R', base_estimator=None,\n",
       "          learning_rate=1.0, n_estimators=50, random_state=None),\n",
       "          fit_params=None, iid='warn', n_iter=10, n_jobs=None,\n",
       "          param_distributions={'learning_rate': array([0.64819, 0.02881, 0.43807, 0.72977, 0.40701, 0.41179, 0.50226,\n",
       "       0.24531, 0.61311, 0.83766, 0.07832, 0.91789, 0.39522, 0.81205,\n",
       "       0.90654, 0.07253, 0.14977, 0.30458, 0.1863 , 0.83024]), 'n_estimators': range(100, 150)},\n",
       "          pre_dispatch='2*n_jobs', random_state=None, refit=True,\n",
       "          return_train_score='warn', scoring=None, verbose=0)"
      ]
     },
     "execution_count": 47,
     "metadata": {},
     "output_type": "execute_result"
    }
   ],
   "source": [
    "parametrosABCRS = {'learning_rate': uniform(0.01, 1, 20), 'n_estimators': range(100, 150)}\n",
    "\n",
    "ABC = AdaBoostClassifier()\n",
    "ABCRS = RandomizedSearchCV(ABC, param_distributions = parametrosABCRS, cv = 10)\n",
    "\n",
    "ABCRS.fit(X_train, y_train)"
   ]
  },
  {
   "cell_type": "code",
   "execution_count": 48,
   "metadata": {},
   "outputs": [
    {
     "name": "stdout",
     "output_type": "stream",
     "text": [
      "Valor óptimo para learning_rate: 0.3045845799320987\n",
      "Valor óptimo para n_estimators: 114\n"
     ]
    }
   ],
   "source": [
    "print('Valor óptimo para learning_rate: {}'.format(ABCRS.best_params_['learning_rate']))\n",
    "print('Valor óptimo para n_estimators: {}'.format(ABCRS.best_params_['n_estimators']))"
   ]
  },
  {
   "cell_type": "code",
   "execution_count": 49,
   "metadata": {},
   "outputs": [
    {
     "name": "stdout",
     "output_type": "stream",
     "text": [
      "Precisión en el conjunto de test: 76.10%\n"
     ]
    }
   ],
   "source": [
    "ABCRSBest = AdaBoostClassifier(learning_rate=ABCRS.best_params_['learning_rate'], \n",
    "                                       n_estimators=ABCRS.best_params_['n_estimators'])\n",
    "ABCRSBest.fit(X_train, y_train)\n",
    "\n",
    "predsABCRSBest = ABCRSBest.predict(X_test)\n",
    "\n",
    "accuracyABCRS = np.true_divide(np.sum(predsABCRSBest == y_test), predsABCRSBest.shape[0])*100\n",
    "print('Precisión en el conjunto de test: {:.2f}%'.format(accuracyABCRS))"
   ]
  },
  {
   "cell_type": "markdown",
   "metadata": {},
   "source": [
    "GridSearchCV"
   ]
  },
  {
   "cell_type": "code",
   "execution_count": 50,
   "metadata": {},
   "outputs": [
    {
     "data": {
      "text/plain": [
       "GridSearchCV(cv=10, error_score='raise-deprecating',\n",
       "       estimator=AdaBoostClassifier(algorithm='SAMME.R', base_estimator=None,\n",
       "          learning_rate=1.0, n_estimators=50, random_state=None),\n",
       "       fit_params=None, iid='warn', n_jobs=None,\n",
       "       param_grid={'learning_rate': [0.05, 0.14, 0.19, 0.3], 'n_estimators': [107, 114, 121]},\n",
       "       pre_dispatch='2*n_jobs', refit=True, return_train_score='warn',\n",
       "       scoring=None, verbose=0)"
      ]
     },
     "execution_count": 50,
     "metadata": {},
     "output_type": "execute_result"
    }
   ],
   "source": [
    "parametrosABCGS = {'learning_rate': [0.05, 0.14, 0.19, 0.3], 'n_estimators': [107, 114, 121]}\n",
    "ABCGS = GridSearchCV(AdaBoostClassifier(), param_grid=parametrosABCGS, cv=10)\n",
    "ABCGS.fit(X_train, y_train)"
   ]
  },
  {
   "cell_type": "code",
   "execution_count": 51,
   "metadata": {},
   "outputs": [],
   "source": [
    "means = ABCGS.cv_results_['mean_test_score']\n",
    "stds = ABCGS.cv_results_['std_test_score']\n",
    "params = ABCGS.cv_results_['params']\n",
    "ranks = ABCGS.cv_results_['rank_test_score']"
   ]
  },
  {
   "cell_type": "code",
   "execution_count": 52,
   "metadata": {},
   "outputs": [
    {
     "name": "stdout",
     "output_type": "stream",
     "text": [
      "10) Precisión media: 78.18 +/- 2.02 con parámetros {'learning_rate': 0.05, 'n_estimators': 107}\n",
      "11) Precisión media: 78.15 +/- 2.15 con parámetros {'learning_rate': 0.05, 'n_estimators': 114}\n",
      "12) Precisión media: 78.07 +/- 2.17 con parámetros {'learning_rate': 0.05, 'n_estimators': 121}\n",
      "2) Precisión media: 78.82 +/- 2.47 con parámetros {'learning_rate': 0.14, 'n_estimators': 107}\n",
      "6) Precisión media: 78.67 +/- 2.48 con parámetros {'learning_rate': 0.14, 'n_estimators': 114}\n",
      "7) Precisión media: 78.60 +/- 2.68 con parámetros {'learning_rate': 0.14, 'n_estimators': 121}\n",
      "9) Precisión media: 78.52 +/- 2.53 con parámetros {'learning_rate': 0.19, 'n_estimators': 107}\n",
      "3) Precisión media: 78.74 +/- 2.40 con parámetros {'learning_rate': 0.19, 'n_estimators': 114}\n",
      "3) Precisión media: 78.74 +/- 2.62 con parámetros {'learning_rate': 0.19, 'n_estimators': 121}\n",
      "1) Precisión media: 79.16 +/- 2.45 con parámetros {'learning_rate': 0.3, 'n_estimators': 107}\n",
      "3) Precisión media: 78.74 +/- 2.68 con parámetros {'learning_rate': 0.3, 'n_estimators': 114}\n",
      "8) Precisión media: 78.56 +/- 2.48 con parámetros {'learning_rate': 0.3, 'n_estimators': 121}\n"
     ]
    }
   ],
   "source": [
    "for rank, mean, std, pms in zip(ranks, means, stds, params):\n",
    "    print('{}) Precisión media: {:.2f} +/- {:.2f} con parámetros {}'.format(rank, mean*100, std*100, pms))"
   ]
  },
  {
   "cell_type": "code",
   "execution_count": 53,
   "metadata": {},
   "outputs": [
    {
     "name": "stdout",
     "output_type": "stream",
     "text": [
      "Valor óptimo para learning_rate: 0.3\n",
      "Valor óptimo para n_estimators: 107\n"
     ]
    }
   ],
   "source": [
    "print('Valor óptimo para learning_rate: {}'.format(ABCGS.best_params_['learning_rate']))\n",
    "print('Valor óptimo para n_estimators: {}'.format(ABCGS.best_params_['n_estimators']))"
   ]
  },
  {
   "cell_type": "code",
   "execution_count": 54,
   "metadata": {},
   "outputs": [
    {
     "name": "stdout",
     "output_type": "stream",
     "text": [
      "Precisión en el conjunto de test: 76.33%\n"
     ]
    }
   ],
   "source": [
    "ABCGSBest = AdaBoostClassifier(learning_rate=ABCGS.best_params_['learning_rate'],\n",
    "                               n_estimators=ABCGS.best_params_['n_estimators'])\n",
    "ABCGSBest.fit(X_train, y_train)\n",
    "\n",
    "predsABCGS = ABCGSBest.predict(X_test)\n",
    "\n",
    "accuracyABCGS = np.true_divide(np.sum(predsABCGS == y_test), predsABCGS.shape[0])*100\n",
    "print('Precisión en el conjunto de test: {:.2f}%'.format(accuracyABCGS))"
   ]
  },
  {
   "cell_type": "code",
   "execution_count": 55,
   "metadata": {},
   "outputs": [
    {
     "data": {
      "image/png": "[encoded data removed]",
      "text/plain": [
       "<matplotlib.figure.Figure at 0x1878aa1a588>"
      ]
     },
     "metadata": {},
     "output_type": "display_data"
    }
   ],
   "source": [
    "matrizConfusion(y_test, predsABCGS)"
   ]
  },
  {
   "cell_type": "code",
   "execution_count": 56,
   "metadata": {},
   "outputs": [
    {
     "name": "stdout",
     "output_type": "stream",
     "text": [
      "Verdaderos Negativos: 631\n",
      "Verdaderos Positivos: 391\n",
      "Falsos Positivos: 149\n",
      "Falsos Negativos: 168\n",
      "\n",
      "\n",
      "Accuracy: 76.32561613144138\n",
      "Misclassification error: -23.674383868558625\n",
      "True Positive Rate/Recall/Sensitivity: 69.94633273703042\n",
      "False Positive Rate: 19.102564102564102\n",
      "Precision: 72.4074074074074\n",
      "Specificity: 80.8974358974359\n",
      "F1 score: 71.15559599636033\n"
     ]
    }
   ],
   "source": [
    "m = matrizConfusionValores(y_test, predsABCGS)\n",
    "print('Verdaderos Negativos: {}'.format(m[0]))\n",
    "print('Verdaderos Positivos: {}'.format(m[1]))\n",
    "print('Falsos Positivos: {}'.format(m[2]))\n",
    "print('Falsos Negativos: {}'.format(m[3]))\n",
    "print(\"\"\"\n",
    "\"\"\")\n",
    "metricas(m)"
   ]
  },
  {
   "cell_type": "markdown",
   "metadata": {},
   "source": [
    "## Random Forest"
   ]
  },
  {
   "cell_type": "code",
   "execution_count": null,
   "metadata": {},
   "outputs": [],
   "source": [
    "# RandomForestClassifier(n_estimators=’warn’, criterion=’gini’, max_depth=None, min_samples_split=2, min_samples_leaf=1,\n",
    "#                        min_weight_fraction_leaf=0.0, max_features=’auto’, max_leaf_nodes=None, min_impurity_decrease=0.0,\n",
    "#                        min_impurity_split=None, bootstrap=True, oob_score=False, n_jobs=None, random_state=None, verbose=0, \n",
    "#                        warm_start=False, class_weight=None)"
   ]
  },
  {
   "cell_type": "markdown",
   "metadata": {},
   "source": [
    "RandomizedSearchCV"
   ]
  },
  {
   "cell_type": "code",
   "execution_count": 57,
   "metadata": {},
   "outputs": [
    {
     "data": {
      "text/plain": [
       "RandomizedSearchCV(cv=10, error_score='raise-deprecating',\n",
       "          estimator=RandomForestClassifier(bootstrap=True, class_weight=None, criterion='gini',\n",
       "            max_depth=None, max_features='auto', max_leaf_nodes=None,\n",
       "            min_impurity_decrease=0.0, min_impurity_split=None,\n",
       "            min_samples_leaf=1, min_samples_split=2,\n",
       "            min_weight_fraction_leaf=0.0, n_estimators='warn', n_jobs=None,\n",
       "            oob_score=False, random_state=None, verbose=0,\n",
       "            warm_start=False),\n",
       "          fit_params=None, iid='warn', n_iter=10, n_jobs=None,\n",
       "          param_distributions={'max_depth': range(20, 100), 'n_estimators': range(50, 200)},\n",
       "          pre_dispatch='2*n_jobs', random_state=None, refit=True,\n",
       "          return_train_score='warn', scoring=None, verbose=0)"
      ]
     },
     "execution_count": 57,
     "metadata": {},
     "output_type": "execute_result"
    }
   ],
   "source": [
    "parametrosRFRS = {'max_depth': range(20, 100), 'n_estimators': range(50, 200)}\n",
    "\n",
    "RF = RandomForestClassifier()\n",
    "RFRS = RandomizedSearchCV(RF, param_distributions = parametrosRFRS, cv = 10)\n",
    "\n",
    "RFRS.fit(X_train, y_train)"
   ]
  },
  {
   "cell_type": "code",
   "execution_count": 58,
   "metadata": {},
   "outputs": [
    {
     "name": "stdout",
     "output_type": "stream",
     "text": [
      "Valor óptimo para max_depth: 58\n",
      "Valor óptimo para n_estimators: 191\n"
     ]
    }
   ],
   "source": [
    "print('Valor óptimo para max_depth: {}'.format(RFRS.best_params_['max_depth']))\n",
    "print('Valor óptimo para n_estimators: {}'.format(RFRS.best_params_['n_estimators']))"
   ]
  },
  {
   "cell_type": "code",
   "execution_count": 59,
   "metadata": {},
   "outputs": [
    {
     "name": "stdout",
     "output_type": "stream",
     "text": [
      "Precisión en el conjunto de test: 75.95%\n"
     ]
    }
   ],
   "source": [
    "RFRSBest = RandomForestClassifier(max_depth=RFRS.best_params_['max_depth'], \n",
    "                                       n_estimators=RFRS.best_params_['n_estimators'])\n",
    "RFRSBest.fit(X_train, y_train)\n",
    "\n",
    "predsRFRSBest = RFRSBest.predict(X_test)\n",
    "\n",
    "accuracyRFRS = np.true_divide(np.sum(predsRFRSBest == y_test), predsRFRSBest.shape[0])*100\n",
    "print('Precisión en el conjunto de test: {:.2f}%'.format(accuracyRFRS))"
   ]
  },
  {
   "cell_type": "markdown",
   "metadata": {},
   "source": [
    "GridSearchCV"
   ]
  },
  {
   "cell_type": "code",
   "execution_count": 60,
   "metadata": {},
   "outputs": [
    {
     "data": {
      "text/plain": [
       "GridSearchCV(cv=10, error_score='raise-deprecating',\n",
       "       estimator=RandomForestClassifier(bootstrap=True, class_weight=None, criterion='gini',\n",
       "            max_depth=None, max_features='auto', max_leaf_nodes=None,\n",
       "            min_impurity_decrease=0.0, min_impurity_split=None,\n",
       "            min_samples_leaf=1, min_samples_split=2,\n",
       "            min_weight_fraction_leaf=0.0, n_estimators='warn', n_jobs=None,\n",
       "            oob_score=False, random_state=None, verbose=0,\n",
       "            warm_start=False),\n",
       "       fit_params=None, iid='warn', n_jobs=None,\n",
       "       param_grid={'max_depth': [26, 50, 58], 'n_estimators': [150, 191, 194, 200]},\n",
       "       pre_dispatch='2*n_jobs', refit=True, return_train_score='warn',\n",
       "       scoring=None, verbose=0)"
      ]
     },
     "execution_count": 60,
     "metadata": {},
     "output_type": "execute_result"
    }
   ],
   "source": [
    "parametrosRFGS = {'max_depth': [26, 50, 58], 'n_estimators': [150, 191, 194, 200]}\n",
    "RFGS = GridSearchCV(RandomForestClassifier(), param_grid=parametrosRFGS, cv=10)\n",
    "RFGS.fit(X_train, y_train)"
   ]
  },
  {
   "cell_type": "code",
   "execution_count": 61,
   "metadata": {},
   "outputs": [],
   "source": [
    "means = RFGS.cv_results_['mean_test_score']\n",
    "stds = RFGS.cv_results_['std_test_score']\n",
    "params = RFGS.cv_results_['params']\n",
    "ranks = RFGS.cv_results_['rank_test_score']"
   ]
  },
  {
   "cell_type": "code",
   "execution_count": 62,
   "metadata": {
    "scrolled": true
   },
   "outputs": [
    {
     "name": "stdout",
     "output_type": "stream",
     "text": [
      "5) Precisión media: 77.10 +/- 2.75 con parámetros {'max_depth': 26, 'n_estimators': 150}\n",
      "6) Precisión media: 77.03 +/- 2.59 con parámetros {'max_depth': 26, 'n_estimators': 191}\n",
      "4) Precisión media: 77.21 +/- 2.65 con parámetros {'max_depth': 26, 'n_estimators': 194}\n",
      "9) Precisión media: 76.69 +/- 2.98 con parámetros {'max_depth': 26, 'n_estimators': 200}\n",
      "2) Precisión media: 77.33 +/- 2.76 con parámetros {'max_depth': 50, 'n_estimators': 150}\n",
      "8) Precisión media: 76.80 +/- 2.95 con parámetros {'max_depth': 50, 'n_estimators': 191}\n",
      "2) Precisión media: 77.33 +/- 2.40 con parámetros {'max_depth': 50, 'n_estimators': 194}\n",
      "1) Precisión media: 77.66 +/- 2.58 con parámetros {'max_depth': 50, 'n_estimators': 200}\n",
      "11) Precisión media: 76.54 +/- 3.33 con parámetros {'max_depth': 58, 'n_estimators': 150}\n",
      "6) Precisión media: 77.03 +/- 2.69 con parámetros {'max_depth': 58, 'n_estimators': 191}\n",
      "10) Precisión media: 76.62 +/- 2.83 con parámetros {'max_depth': 58, 'n_estimators': 194}\n",
      "12) Precisión media: 76.39 +/- 2.89 con parámetros {'max_depth': 58, 'n_estimators': 200}\n"
     ]
    }
   ],
   "source": [
    "for rank, mean, std, pms in zip(ranks, means, stds, params):\n",
    "    print('{}) Precisión media: {:.2f} +/- {:.2f} con parámetros {}'.format(rank, mean*100, std*100, pms))"
   ]
  },
  {
   "cell_type": "code",
   "execution_count": 63,
   "metadata": {},
   "outputs": [
    {
     "name": "stdout",
     "output_type": "stream",
     "text": [
      "Valor óptimo para max_depth: 50\n",
      "Valor óptimo para n_estimators: 200\n"
     ]
    }
   ],
   "source": [
    "print('Valor óptimo para max_depth: {}'.format(RFGS.best_params_['max_depth']))\n",
    "print('Valor óptimo para n_estimators: {}'.format(RFGS.best_params_['n_estimators']))"
   ]
  },
  {
   "cell_type": "code",
   "execution_count": 64,
   "metadata": {},
   "outputs": [
    {
     "name": "stdout",
     "output_type": "stream",
     "text": [
      "Precisión en el conjunto de test: 75.65%\n"
     ]
    }
   ],
   "source": [
    "RFGSBest = RandomForestClassifier(max_depth=RFGS.best_params_['max_depth'],\n",
    "                                  n_estimators=RFGS.best_params_['n_estimators'])\n",
    "RFGSBest.fit(X_train, y_train)\n",
    "\n",
    "predsRFGS = RFGSBest.predict(X_test)\n",
    "\n",
    "accuracyRFGS = np.true_divide(np.sum(predsRFGS == y_test), predsRFGS.shape[0])*100\n",
    "print('Precisión en el conjunto de test: {:.2f}%'.format(accuracyRFGS))"
   ]
  },
  {
   "cell_type": "code",
   "execution_count": 65,
   "metadata": {},
   "outputs": [
    {
     "data": {
      "image/png": "[encoded data removed]",
      "text/plain": [
       "<matplotlib.figure.Figure at 0x1878ab05a20>"
      ]
     },
     "metadata": {},
     "output_type": "display_data"
    }
   ],
   "source": [
    "matrizConfusion(y_test, predsRFGS)"
   ]
  },
  {
   "cell_type": "code",
   "execution_count": 66,
   "metadata": {},
   "outputs": [
    {
     "name": "stdout",
     "output_type": "stream",
     "text": [
      "Verdaderos Negativos: 621\n",
      "Verdaderos Positivos: 392\n",
      "Falsos Positivos: 159\n",
      "Falsos Negativos: 167\n",
      "\n",
      "\n",
      "Accuracy: 75.65347274085138\n",
      "Misclassification error: -24.34652725914862\n",
      "True Positive Rate/Recall/Sensitivity: 70.12522361359571\n",
      "False Positive Rate: 20.384615384615383\n",
      "Precision: 71.14337568058076\n",
      "Specificity: 79.61538461538463\n",
      "F1 score: 70.63063063063063\n"
     ]
    }
   ],
   "source": [
    "m = matrizConfusionValores(y_test, predsRFGS)\n",
    "print('Verdaderos Negativos: {}'.format(m[0]))\n",
    "print('Verdaderos Positivos: {}'.format(m[1]))\n",
    "print('Falsos Positivos: {}'.format(m[2]))\n",
    "print('Falsos Negativos: {}'.format(m[3]))\n",
    "print(\"\"\"\n",
    "\"\"\")\n",
    "metricas(m)"
   ]
  },
  {
   "cell_type": "markdown",
   "metadata": {},
   "source": [
    "## Bayesiano"
   ]
  },
  {
   "cell_type": "code",
   "execution_count": null,
   "metadata": {},
   "outputs": [],
   "source": [
    "# sklearn.naive_bayes.GaussianNB(priors=None, var_smoothing=1e-09)"
   ]
  },
  {
   "cell_type": "markdown",
   "metadata": {},
   "source": [
    "RandomizedSearchCV"
   ]
  },
  {
   "cell_type": "code",
   "execution_count": 67,
   "metadata": {},
   "outputs": [
    {
     "data": {
      "text/plain": [
       "RandomizedSearchCV(cv=10, error_score='raise-deprecating',\n",
       "          estimator=GaussianNB(priors=None, var_smoothing=1e-09),\n",
       "          fit_params=None, iid='warn', n_iter=10, n_jobs=None,\n",
       "          param_distributions={'var_smoothing': array([3.13397e-09, 4.28698e-09, ..., 9.75403e-09, 8.87413e-09])},\n",
       "          pre_dispatch='2*n_jobs', random_state=None, refit=True,\n",
       "          return_train_score='warn', scoring=None, verbose=0)"
      ]
     },
     "execution_count": 67,
     "metadata": {},
     "output_type": "execute_result"
    }
   ],
   "source": [
    "parametrosGNBRS = {'var_smoothing': uniform(1e-10, 1e-08, 200)}\n",
    "GNB = GaussianNB()\n",
    "\n",
    "GNBRS = RandomizedSearchCV(GNB, param_distributions = parametrosGNBRS, cv = 10)\n",
    "\n",
    "GNBRS.fit(X_train, y_train)"
   ]
  },
  {
   "cell_type": "code",
   "execution_count": 68,
   "metadata": {},
   "outputs": [
    {
     "name": "stdout",
     "output_type": "stream",
     "text": [
      "Valor óptimo para var_smoothing: 8.779360522019534e-09\n"
     ]
    }
   ],
   "source": [
    "print('Valor óptimo para var_smoothing: {}'.format(GNBRS.best_params_['var_smoothing']))"
   ]
  },
  {
   "cell_type": "code",
   "execution_count": 69,
   "metadata": {},
   "outputs": [
    {
     "name": "stdout",
     "output_type": "stream",
     "text": [
      "Precisión en el conjunto de test: 60.34%\n"
     ]
    }
   ],
   "source": [
    "GNBRSBest = GaussianNB(var_smoothing=GNBRS.best_params_['var_smoothing'])\n",
    "GNBRSBest.fit(X_train, y_train)\n",
    "\n",
    "predsGNBRS = GNBRSBest.predict(X_test)\n",
    "\n",
    "accuracyGNBRS = np.true_divide(np.sum(predsGNBRS == y_test), predsGNBRS.shape[0])*100\n",
    "print('Precisión en el conjunto de test: {:.2f}%'.format(accuracyGNBRS))"
   ]
  },
  {
   "cell_type": "markdown",
   "metadata": {},
   "source": [
    "GridSearchCV"
   ]
  },
  {
   "cell_type": "code",
   "execution_count": 70,
   "metadata": {},
   "outputs": [
    {
     "data": {
      "text/plain": [
       "GridSearchCV(cv=10, error_score='raise-deprecating',\n",
       "       estimator=GaussianNB(priors=None, var_smoothing=1e-09),\n",
       "       fit_params=None, iid='warn', n_jobs=None,\n",
       "       param_grid={'var_smoothing': [1e-09, 9.81e-09, 6.37e-10]},\n",
       "       pre_dispatch='2*n_jobs', refit=True, return_train_score='warn',\n",
       "       scoring=None, verbose=0)"
      ]
     },
     "execution_count": 70,
     "metadata": {},
     "output_type": "execute_result"
    }
   ],
   "source": [
    "parametrosGNBGS = {'var_smoothing': [10e-10, 9.81e-9, 6.37e-10]}\n",
    "GNBGS = GridSearchCV(GaussianNB(), param_grid=parametrosGNBGS, cv=10)\n",
    "GNBGS.fit(X_train, y_train)"
   ]
  },
  {
   "cell_type": "code",
   "execution_count": 71,
   "metadata": {},
   "outputs": [],
   "source": [
    "means = GNBGS.cv_results_['mean_test_score']\n",
    "stds = GNBGS.cv_results_['std_test_score']\n",
    "params = GNBGS.cv_results_['params']\n",
    "ranks = GNBGS.cv_results_['rank_test_score']"
   ]
  },
  {
   "cell_type": "code",
   "execution_count": 72,
   "metadata": {},
   "outputs": [
    {
     "name": "stdout",
     "output_type": "stream",
     "text": [
      "2) Precisión media: 58.16 +/- 2.03 con parámetros {'var_smoothing': 1e-09}\n",
      "1) Precisión media: 58.24 +/- 2.01 con parámetros {'var_smoothing': 9.81e-09}\n",
      "2) Precisión media: 58.16 +/- 2.03 con parámetros {'var_smoothing': 6.37e-10}\n"
     ]
    }
   ],
   "source": [
    "for rank, mean, std, pms in zip(ranks, means, stds, params):\n",
    "    print('{}) Precisión media: {:.2f} +/- {:.2f} con parámetros {}'.format(rank, mean*100, std*100, pms))"
   ]
  },
  {
   "cell_type": "code",
   "execution_count": 73,
   "metadata": {},
   "outputs": [
    {
     "name": "stdout",
     "output_type": "stream",
     "text": [
      "Valor óptimo para var_smoothing: 9.81e-09\n"
     ]
    }
   ],
   "source": [
    "print('Valor óptimo para var_smoothing: {}'.format(GNBGS.best_params_['var_smoothing']))"
   ]
  },
  {
   "cell_type": "code",
   "execution_count": 74,
   "metadata": {},
   "outputs": [
    {
     "name": "stdout",
     "output_type": "stream",
     "text": [
      "Valor óptimo para var_smoothing: 9.81e-09\n",
      "Precisión en el conjunto de test: 60.34%\n"
     ]
    }
   ],
   "source": [
    "print('Valor óptimo para var_smoothing: {}'.format(GNBGS.best_params_['var_smoothing']))\n",
    "GNBGSBest = GaussianNB(var_smoothing=GNBGS.best_params_['var_smoothing'])\n",
    "GNBGSBest.fit(X_train, y_train)\n",
    "\n",
    "predsGNBGS = GNBGSBest.predict(X_test)\n",
    "\n",
    "accuracyGNBGS = np.true_divide(np.sum(predsGNBGS == y_test), predsGNBGS.shape[0])*100\n",
    "print('Precisión en el conjunto de test: {:.2f}%'.format(accuracyGNBGS))"
   ]
  },
  {
   "cell_type": "code",
   "execution_count": 75,
   "metadata": {},
   "outputs": [
    {
     "data": {
      "image/png": "[encoded data removed]",
      "text/plain": [
       "<matplotlib.figure.Figure at 0x1878ab4d320>"
      ]
     },
     "metadata": {},
     "output_type": "display_data"
    }
   ],
   "source": [
    "matrizConfusion(y_test, predsGNBGS)"
   ]
  },
  {
   "cell_type": "code",
   "execution_count": 76,
   "metadata": {},
   "outputs": [
    {
     "name": "stdout",
     "output_type": "stream",
     "text": [
      "Verdaderos Negativos: 291\n",
      "Verdaderos Positivos: 517\n",
      "Falsos Positivos: 489\n",
      "Falsos Negativos: 42\n",
      "\n",
      "\n",
      "Accuracy: 60.34353995519044\n",
      "Misclassification error: -39.65646004480956\n",
      "True Positive Rate/Recall/Sensitivity: 92.4865831842576\n",
      "False Positive Rate: 62.69230769230769\n",
      "Precision: 51.39165009940358\n",
      "Specificity: 37.30769230769231\n",
      "F1 score: 66.07028753993609\n"
     ]
    }
   ],
   "source": [
    "m = matrizConfusionValores(y_test, predsGNBGS)\n",
    "print('Verdaderos Negativos: {}'.format(m[0]))\n",
    "print('Verdaderos Positivos: {}'.format(m[1]))\n",
    "print('Falsos Positivos: {}'.format(m[2]))\n",
    "print('Falsos Negativos: {}'.format(m[3]))\n",
    "print(\"\"\"\n",
    "\"\"\")\n",
    "metricas(m)"
   ]
  },
  {
   "cell_type": "markdown",
   "metadata": {},
   "source": [
    "## Logistic Regression"
   ]
  },
  {
   "cell_type": "code",
   "execution_count": null,
   "metadata": {},
   "outputs": [],
   "source": [
    "# LogisticRegression(penalty=’l2’, dual=False, tol=0.0001, C=1.0, fit_intercept=True, intercept_scaling=1, class_weight=None,\n",
    "#                    random_state=None, solver=’warn’, max_iter=100, multi_class=’warn’, verbose=0, warm_start=False,\n",
    "#                    n_jobs=None, l1_ratio=None)"
   ]
  },
  {
   "cell_type": "markdown",
   "metadata": {},
   "source": [
    "RandomizedSearchCV"
   ]
  },
  {
   "cell_type": "code",
   "execution_count": 78,
   "metadata": {},
   "outputs": [
    {
     "name": "stderr",
     "output_type": "stream",
     "text": [
      "C:\\Users\\Maria Jose- Javier\\Anaconda3\\lib\\site-packages\\sklearn\\linear_model\\logistic.py:433: FutureWarning: Default solver will be changed to 'lbfgs' in 0.22. Specify a solver to silence this warning.\n",
      "  FutureWarning)\n",
      "C:\\Users\\Maria Jose- Javier\\Anaconda3\\lib\\site-packages\\sklearn\\linear_model\\logistic.py:433: FutureWarning: Default solver will be changed to 'lbfgs' in 0.22. Specify a solver to silence this warning.\n",
      "  FutureWarning)\n",
      "C:\\Users\\Maria Jose- Javier\\Anaconda3\\lib\\site-packages\\sklearn\\linear_model\\logistic.py:433: FutureWarning: Default solver will be changed to 'lbfgs' in 0.22. Specify a solver to silence this warning.\n",
      "  FutureWarning)\n",
      "C:\\Users\\Maria Jose- Javier\\Anaconda3\\lib\\site-packages\\sklearn\\linear_model\\logistic.py:433: FutureWarning: Default solver will be changed to 'lbfgs' in 0.22. Specify a solver to silence this warning.\n",
      "  FutureWarning)\n",
      "C:\\Users\\Maria Jose- Javier\\Anaconda3\\lib\\site-packages\\sklearn\\linear_model\\logistic.py:433: FutureWarning: Default solver will be changed to 'lbfgs' in 0.22. Specify a solver to silence this warning.\n",
      "  FutureWarning)\n",
      "C:\\Users\\Maria Jose- Javier\\Anaconda3\\lib\\site-packages\\sklearn\\linear_model\\logistic.py:433: FutureWarning: Default solver will be changed to 'lbfgs' in 0.22. Specify a solver to silence this warning.\n",
      "  FutureWarning)\n",
      "C:\\Users\\Maria Jose- Javier\\Anaconda3\\lib\\site-packages\\sklearn\\linear_model\\logistic.py:433: FutureWarning: Default solver will be changed to 'lbfgs' in 0.22. Specify a solver to silence this warning.\n",
      "  FutureWarning)\n",
      "C:\\Users\\Maria Jose- Javier\\Anaconda3\\lib\\site-packages\\sklearn\\linear_model\\logistic.py:433: FutureWarning: Default solver will be changed to 'lbfgs' in 0.22. Specify a solver to silence this warning.\n",
      "  FutureWarning)\n",
      "C:\\Users\\Maria Jose- Javier\\Anaconda3\\lib\\site-packages\\sklearn\\linear_model\\logistic.py:433: FutureWarning: Default solver will be changed to 'lbfgs' in 0.22. Specify a solver to silence this warning.\n",
      "  FutureWarning)\n",
      "C:\\Users\\Maria Jose- Javier\\Anaconda3\\lib\\site-packages\\sklearn\\linear_model\\logistic.py:433: FutureWarning: Default solver will be changed to 'lbfgs' in 0.22. Specify a solver to silence this warning.\n",
      "  FutureWarning)\n",
      "C:\\Users\\Maria Jose- Javier\\Anaconda3\\lib\\site-packages\\sklearn\\linear_model\\logistic.py:433: FutureWarning: Default solver will be changed to 'lbfgs' in 0.22. Specify a solver to silence this warning.\n",
      "  FutureWarning)\n",
      "C:\\Users\\Maria Jose- Javier\\Anaconda3\\lib\\site-packages\\sklearn\\linear_model\\logistic.py:433: FutureWarning: Default solver will be changed to 'lbfgs' in 0.22. Specify a solver to silence this warning.\n",
      "  FutureWarning)\n",
      "C:\\Users\\Maria Jose- Javier\\Anaconda3\\lib\\site-packages\\sklearn\\linear_model\\logistic.py:433: FutureWarning: Default solver will be changed to 'lbfgs' in 0.22. Specify a solver to silence this warning.\n",
      "  FutureWarning)\n",
      "C:\\Users\\Maria Jose- Javier\\Anaconda3\\lib\\site-packages\\sklearn\\linear_model\\logistic.py:433: FutureWarning: Default solver will be changed to 'lbfgs' in 0.22. Specify a solver to silence this warning.\n",
      "  FutureWarning)\n",
      "C:\\Users\\Maria Jose- Javier\\Anaconda3\\lib\\site-packages\\sklearn\\linear_model\\logistic.py:433: FutureWarning: Default solver will be changed to 'lbfgs' in 0.22. Specify a solver to silence this warning.\n",
      "  FutureWarning)\n",
      "C:\\Users\\Maria Jose- Javier\\Anaconda3\\lib\\site-packages\\sklearn\\linear_model\\logistic.py:433: FutureWarning: Default solver will be changed to 'lbfgs' in 0.22. Specify a solver to silence this warning.\n",
      "  FutureWarning)\n",
      "C:\\Users\\Maria Jose- Javier\\Anaconda3\\lib\\site-packages\\sklearn\\linear_model\\logistic.py:433: FutureWarning: Default solver will be changed to 'lbfgs' in 0.22. Specify a solver to silence this warning.\n",
      "  FutureWarning)\n",
      "C:\\Users\\Maria Jose- Javier\\Anaconda3\\lib\\site-packages\\sklearn\\linear_model\\logistic.py:433: FutureWarning: Default solver will be changed to 'lbfgs' in 0.22. Specify a solver to silence this warning.\n",
      "  FutureWarning)\n",
      "C:\\Users\\Maria Jose- Javier\\Anaconda3\\lib\\site-packages\\sklearn\\linear_model\\logistic.py:433: FutureWarning: Default solver will be changed to 'lbfgs' in 0.22. Specify a solver to silence this warning.\n",
      "  FutureWarning)\n",
      "C:\\Users\\Maria Jose- Javier\\Anaconda3\\lib\\site-packages\\sklearn\\linear_model\\logistic.py:433: FutureWarning: Default solver will be changed to 'lbfgs' in 0.22. Specify a solver to silence this warning.\n",
      "  FutureWarning)\n",
      "C:\\Users\\Maria Jose- Javier\\Anaconda3\\lib\\site-packages\\sklearn\\linear_model\\logistic.py:433: FutureWarning: Default solver will be changed to 'lbfgs' in 0.22. Specify a solver to silence this warning.\n",
      "  FutureWarning)\n",
      "C:\\Users\\Maria Jose- Javier\\Anaconda3\\lib\\site-packages\\sklearn\\linear_model\\logistic.py:433: FutureWarning: Default solver will be changed to 'lbfgs' in 0.22. Specify a solver to silence this warning.\n",
      "  FutureWarning)\n",
      "C:\\Users\\Maria Jose- Javier\\Anaconda3\\lib\\site-packages\\sklearn\\linear_model\\logistic.py:433: FutureWarning: Default solver will be changed to 'lbfgs' in 0.22. Specify a solver to silence this warning.\n",
      "  FutureWarning)\n",
      "C:\\Users\\Maria Jose- Javier\\Anaconda3\\lib\\site-packages\\sklearn\\linear_model\\logistic.py:433: FutureWarning: Default solver will be changed to 'lbfgs' in 0.22. Specify a solver to silence this warning.\n",
      "  FutureWarning)\n",
      "C:\\Users\\Maria Jose- Javier\\Anaconda3\\lib\\site-packages\\sklearn\\linear_model\\logistic.py:433: FutureWarning: Default solver will be changed to 'lbfgs' in 0.22. Specify a solver to silence this warning.\n",
      "  FutureWarning)\n",
      "C:\\Users\\Maria Jose- Javier\\Anaconda3\\lib\\site-packages\\sklearn\\linear_model\\logistic.py:433: FutureWarning: Default solver will be changed to 'lbfgs' in 0.22. Specify a solver to silence this warning.\n",
      "  FutureWarning)\n",
      "C:\\Users\\Maria Jose- Javier\\Anaconda3\\lib\\site-packages\\sklearn\\linear_model\\logistic.py:433: FutureWarning: Default solver will be changed to 'lbfgs' in 0.22. Specify a solver to silence this warning.\n",
      "  FutureWarning)\n",
      "C:\\Users\\Maria Jose- Javier\\Anaconda3\\lib\\site-packages\\sklearn\\linear_model\\logistic.py:433: FutureWarning: Default solver will be changed to 'lbfgs' in 0.22. Specify a solver to silence this warning.\n",
      "  FutureWarning)\n",
      "C:\\Users\\Maria Jose- Javier\\Anaconda3\\lib\\site-packages\\sklearn\\linear_model\\logistic.py:433: FutureWarning: Default solver will be changed to 'lbfgs' in 0.22. Specify a solver to silence this warning.\n",
      "  FutureWarning)\n",
      "C:\\Users\\Maria Jose- Javier\\Anaconda3\\lib\\site-packages\\sklearn\\linear_model\\logistic.py:433: FutureWarning: Default solver will be changed to 'lbfgs' in 0.22. Specify a solver to silence this warning.\n",
      "  FutureWarning)\n",
      "C:\\Users\\Maria Jose- Javier\\Anaconda3\\lib\\site-packages\\sklearn\\linear_model\\logistic.py:433: FutureWarning: Default solver will be changed to 'lbfgs' in 0.22. Specify a solver to silence this warning.\n",
      "  FutureWarning)\n",
      "C:\\Users\\Maria Jose- Javier\\Anaconda3\\lib\\site-packages\\sklearn\\linear_model\\logistic.py:433: FutureWarning: Default solver will be changed to 'lbfgs' in 0.22. Specify a solver to silence this warning.\n",
      "  FutureWarning)\n",
      "C:\\Users\\Maria Jose- Javier\\Anaconda3\\lib\\site-packages\\sklearn\\linear_model\\logistic.py:433: FutureWarning: Default solver will be changed to 'lbfgs' in 0.22. Specify a solver to silence this warning.\n",
      "  FutureWarning)\n",
      "C:\\Users\\Maria Jose- Javier\\Anaconda3\\lib\\site-packages\\sklearn\\linear_model\\logistic.py:433: FutureWarning: Default solver will be changed to 'lbfgs' in 0.22. Specify a solver to silence this warning.\n",
      "  FutureWarning)\n",
      "C:\\Users\\Maria Jose- Javier\\Anaconda3\\lib\\site-packages\\sklearn\\linear_model\\logistic.py:433: FutureWarning: Default solver will be changed to 'lbfgs' in 0.22. Specify a solver to silence this warning.\n",
      "  FutureWarning)\n",
      "C:\\Users\\Maria Jose- Javier\\Anaconda3\\lib\\site-packages\\sklearn\\linear_model\\logistic.py:433: FutureWarning: Default solver will be changed to 'lbfgs' in 0.22. Specify a solver to silence this warning.\n",
      "  FutureWarning)\n",
      "C:\\Users\\Maria Jose- Javier\\Anaconda3\\lib\\site-packages\\sklearn\\linear_model\\logistic.py:433: FutureWarning: Default solver will be changed to 'lbfgs' in 0.22. Specify a solver to silence this warning.\n",
      "  FutureWarning)\n",
      "C:\\Users\\Maria Jose- Javier\\Anaconda3\\lib\\site-packages\\sklearn\\linear_model\\logistic.py:433: FutureWarning: Default solver will be changed to 'lbfgs' in 0.22. Specify a solver to silence this warning.\n",
      "  FutureWarning)\n"
     ]
    },
    {
     "name": "stderr",
     "output_type": "stream",
     "text": [
      "C:\\Users\\Maria Jose- Javier\\Anaconda3\\lib\\site-packages\\sklearn\\linear_model\\logistic.py:433: FutureWarning: Default solver will be changed to 'lbfgs' in 0.22. Specify a solver to silence this warning.\n",
      "  FutureWarning)\n",
      "C:\\Users\\Maria Jose- Javier\\Anaconda3\\lib\\site-packages\\sklearn\\linear_model\\logistic.py:433: FutureWarning: Default solver will be changed to 'lbfgs' in 0.22. Specify a solver to silence this warning.\n",
      "  FutureWarning)\n",
      "C:\\Users\\Maria Jose- Javier\\Anaconda3\\lib\\site-packages\\sklearn\\linear_model\\logistic.py:433: FutureWarning: Default solver will be changed to 'lbfgs' in 0.22. Specify a solver to silence this warning.\n",
      "  FutureWarning)\n",
      "C:\\Users\\Maria Jose- Javier\\Anaconda3\\lib\\site-packages\\sklearn\\linear_model\\logistic.py:433: FutureWarning: Default solver will be changed to 'lbfgs' in 0.22. Specify a solver to silence this warning.\n",
      "  FutureWarning)\n",
      "C:\\Users\\Maria Jose- Javier\\Anaconda3\\lib\\site-packages\\sklearn\\linear_model\\logistic.py:433: FutureWarning: Default solver will be changed to 'lbfgs' in 0.22. Specify a solver to silence this warning.\n",
      "  FutureWarning)\n",
      "C:\\Users\\Maria Jose- Javier\\Anaconda3\\lib\\site-packages\\sklearn\\linear_model\\logistic.py:433: FutureWarning: Default solver will be changed to 'lbfgs' in 0.22. Specify a solver to silence this warning.\n",
      "  FutureWarning)\n",
      "C:\\Users\\Maria Jose- Javier\\Anaconda3\\lib\\site-packages\\sklearn\\linear_model\\logistic.py:433: FutureWarning: Default solver will be changed to 'lbfgs' in 0.22. Specify a solver to silence this warning.\n",
      "  FutureWarning)\n",
      "C:\\Users\\Maria Jose- Javier\\Anaconda3\\lib\\site-packages\\sklearn\\linear_model\\logistic.py:433: FutureWarning: Default solver will be changed to 'lbfgs' in 0.22. Specify a solver to silence this warning.\n",
      "  FutureWarning)\n",
      "C:\\Users\\Maria Jose- Javier\\Anaconda3\\lib\\site-packages\\sklearn\\linear_model\\logistic.py:433: FutureWarning: Default solver will be changed to 'lbfgs' in 0.22. Specify a solver to silence this warning.\n",
      "  FutureWarning)\n",
      "C:\\Users\\Maria Jose- Javier\\Anaconda3\\lib\\site-packages\\sklearn\\linear_model\\logistic.py:433: FutureWarning: Default solver will be changed to 'lbfgs' in 0.22. Specify a solver to silence this warning.\n",
      "  FutureWarning)\n",
      "C:\\Users\\Maria Jose- Javier\\Anaconda3\\lib\\site-packages\\sklearn\\linear_model\\logistic.py:433: FutureWarning: Default solver will be changed to 'lbfgs' in 0.22. Specify a solver to silence this warning.\n",
      "  FutureWarning)\n",
      "C:\\Users\\Maria Jose- Javier\\Anaconda3\\lib\\site-packages\\sklearn\\linear_model\\logistic.py:433: FutureWarning: Default solver will be changed to 'lbfgs' in 0.22. Specify a solver to silence this warning.\n",
      "  FutureWarning)\n",
      "C:\\Users\\Maria Jose- Javier\\Anaconda3\\lib\\site-packages\\sklearn\\linear_model\\logistic.py:433: FutureWarning: Default solver will be changed to 'lbfgs' in 0.22. Specify a solver to silence this warning.\n",
      "  FutureWarning)\n",
      "C:\\Users\\Maria Jose- Javier\\Anaconda3\\lib\\site-packages\\sklearn\\linear_model\\logistic.py:433: FutureWarning: Default solver will be changed to 'lbfgs' in 0.22. Specify a solver to silence this warning.\n",
      "  FutureWarning)\n",
      "C:\\Users\\Maria Jose- Javier\\Anaconda3\\lib\\site-packages\\sklearn\\linear_model\\logistic.py:433: FutureWarning: Default solver will be changed to 'lbfgs' in 0.22. Specify a solver to silence this warning.\n",
      "  FutureWarning)\n",
      "C:\\Users\\Maria Jose- Javier\\Anaconda3\\lib\\site-packages\\sklearn\\linear_model\\logistic.py:433: FutureWarning: Default solver will be changed to 'lbfgs' in 0.22. Specify a solver to silence this warning.\n",
      "  FutureWarning)\n",
      "C:\\Users\\Maria Jose- Javier\\Anaconda3\\lib\\site-packages\\sklearn\\linear_model\\logistic.py:433: FutureWarning: Default solver will be changed to 'lbfgs' in 0.22. Specify a solver to silence this warning.\n",
      "  FutureWarning)\n",
      "C:\\Users\\Maria Jose- Javier\\Anaconda3\\lib\\site-packages\\sklearn\\linear_model\\logistic.py:433: FutureWarning: Default solver will be changed to 'lbfgs' in 0.22. Specify a solver to silence this warning.\n",
      "  FutureWarning)\n",
      "C:\\Users\\Maria Jose- Javier\\Anaconda3\\lib\\site-packages\\sklearn\\linear_model\\logistic.py:433: FutureWarning: Default solver will be changed to 'lbfgs' in 0.22. Specify a solver to silence this warning.\n",
      "  FutureWarning)\n",
      "C:\\Users\\Maria Jose- Javier\\Anaconda3\\lib\\site-packages\\sklearn\\linear_model\\logistic.py:433: FutureWarning: Default solver will be changed to 'lbfgs' in 0.22. Specify a solver to silence this warning.\n",
      "  FutureWarning)\n",
      "C:\\Users\\Maria Jose- Javier\\Anaconda3\\lib\\site-packages\\sklearn\\linear_model\\logistic.py:433: FutureWarning: Default solver will be changed to 'lbfgs' in 0.22. Specify a solver to silence this warning.\n",
      "  FutureWarning)\n",
      "C:\\Users\\Maria Jose- Javier\\Anaconda3\\lib\\site-packages\\sklearn\\linear_model\\logistic.py:433: FutureWarning: Default solver will be changed to 'lbfgs' in 0.22. Specify a solver to silence this warning.\n",
      "  FutureWarning)\n",
      "C:\\Users\\Maria Jose- Javier\\Anaconda3\\lib\\site-packages\\sklearn\\linear_model\\logistic.py:433: FutureWarning: Default solver will be changed to 'lbfgs' in 0.22. Specify a solver to silence this warning.\n",
      "  FutureWarning)\n",
      "C:\\Users\\Maria Jose- Javier\\Anaconda3\\lib\\site-packages\\sklearn\\linear_model\\logistic.py:433: FutureWarning: Default solver will be changed to 'lbfgs' in 0.22. Specify a solver to silence this warning.\n",
      "  FutureWarning)\n",
      "C:\\Users\\Maria Jose- Javier\\Anaconda3\\lib\\site-packages\\sklearn\\linear_model\\logistic.py:433: FutureWarning: Default solver will be changed to 'lbfgs' in 0.22. Specify a solver to silence this warning.\n",
      "  FutureWarning)\n",
      "C:\\Users\\Maria Jose- Javier\\Anaconda3\\lib\\site-packages\\sklearn\\linear_model\\logistic.py:433: FutureWarning: Default solver will be changed to 'lbfgs' in 0.22. Specify a solver to silence this warning.\n",
      "  FutureWarning)\n",
      "C:\\Users\\Maria Jose- Javier\\Anaconda3\\lib\\site-packages\\sklearn\\linear_model\\logistic.py:433: FutureWarning: Default solver will be changed to 'lbfgs' in 0.22. Specify a solver to silence this warning.\n",
      "  FutureWarning)\n",
      "C:\\Users\\Maria Jose- Javier\\Anaconda3\\lib\\site-packages\\sklearn\\linear_model\\logistic.py:433: FutureWarning: Default solver will be changed to 'lbfgs' in 0.22. Specify a solver to silence this warning.\n",
      "  FutureWarning)\n",
      "C:\\Users\\Maria Jose- Javier\\Anaconda3\\lib\\site-packages\\sklearn\\linear_model\\logistic.py:433: FutureWarning: Default solver will be changed to 'lbfgs' in 0.22. Specify a solver to silence this warning.\n",
      "  FutureWarning)\n",
      "C:\\Users\\Maria Jose- Javier\\Anaconda3\\lib\\site-packages\\sklearn\\linear_model\\logistic.py:433: FutureWarning: Default solver will be changed to 'lbfgs' in 0.22. Specify a solver to silence this warning.\n",
      "  FutureWarning)\n",
      "C:\\Users\\Maria Jose- Javier\\Anaconda3\\lib\\site-packages\\sklearn\\linear_model\\logistic.py:433: FutureWarning: Default solver will be changed to 'lbfgs' in 0.22. Specify a solver to silence this warning.\n",
      "  FutureWarning)\n",
      "C:\\Users\\Maria Jose- Javier\\Anaconda3\\lib\\site-packages\\sklearn\\linear_model\\logistic.py:433: FutureWarning: Default solver will be changed to 'lbfgs' in 0.22. Specify a solver to silence this warning.\n",
      "  FutureWarning)\n",
      "C:\\Users\\Maria Jose- Javier\\Anaconda3\\lib\\site-packages\\sklearn\\linear_model\\logistic.py:433: FutureWarning: Default solver will be changed to 'lbfgs' in 0.22. Specify a solver to silence this warning.\n",
      "  FutureWarning)\n",
      "C:\\Users\\Maria Jose- Javier\\Anaconda3\\lib\\site-packages\\sklearn\\linear_model\\logistic.py:433: FutureWarning: Default solver will be changed to 'lbfgs' in 0.22. Specify a solver to silence this warning.\n",
      "  FutureWarning)\n",
      "C:\\Users\\Maria Jose- Javier\\Anaconda3\\lib\\site-packages\\sklearn\\linear_model\\logistic.py:433: FutureWarning: Default solver will be changed to 'lbfgs' in 0.22. Specify a solver to silence this warning.\n",
      "  FutureWarning)\n",
      "C:\\Users\\Maria Jose- Javier\\Anaconda3\\lib\\site-packages\\sklearn\\linear_model\\logistic.py:433: FutureWarning: Default solver will be changed to 'lbfgs' in 0.22. Specify a solver to silence this warning.\n",
      "  FutureWarning)\n",
      "C:\\Users\\Maria Jose- Javier\\Anaconda3\\lib\\site-packages\\sklearn\\linear_model\\logistic.py:433: FutureWarning: Default solver will be changed to 'lbfgs' in 0.22. Specify a solver to silence this warning.\n",
      "  FutureWarning)\n",
      "C:\\Users\\Maria Jose- Javier\\Anaconda3\\lib\\site-packages\\sklearn\\linear_model\\logistic.py:433: FutureWarning: Default solver will be changed to 'lbfgs' in 0.22. Specify a solver to silence this warning.\n",
      "  FutureWarning)\n"
     ]
    },
    {
     "name": "stderr",
     "output_type": "stream",
     "text": [
      "C:\\Users\\Maria Jose- Javier\\Anaconda3\\lib\\site-packages\\sklearn\\linear_model\\logistic.py:433: FutureWarning: Default solver will be changed to 'lbfgs' in 0.22. Specify a solver to silence this warning.\n",
      "  FutureWarning)\n",
      "C:\\Users\\Maria Jose- Javier\\Anaconda3\\lib\\site-packages\\sklearn\\linear_model\\logistic.py:433: FutureWarning: Default solver will be changed to 'lbfgs' in 0.22. Specify a solver to silence this warning.\n",
      "  FutureWarning)\n",
      "C:\\Users\\Maria Jose- Javier\\Anaconda3\\lib\\site-packages\\sklearn\\linear_model\\logistic.py:433: FutureWarning: Default solver will be changed to 'lbfgs' in 0.22. Specify a solver to silence this warning.\n",
      "  FutureWarning)\n",
      "C:\\Users\\Maria Jose- Javier\\Anaconda3\\lib\\site-packages\\sklearn\\linear_model\\logistic.py:433: FutureWarning: Default solver will be changed to 'lbfgs' in 0.22. Specify a solver to silence this warning.\n",
      "  FutureWarning)\n",
      "C:\\Users\\Maria Jose- Javier\\Anaconda3\\lib\\site-packages\\sklearn\\linear_model\\logistic.py:433: FutureWarning: Default solver will be changed to 'lbfgs' in 0.22. Specify a solver to silence this warning.\n",
      "  FutureWarning)\n",
      "C:\\Users\\Maria Jose- Javier\\Anaconda3\\lib\\site-packages\\sklearn\\linear_model\\logistic.py:433: FutureWarning: Default solver will be changed to 'lbfgs' in 0.22. Specify a solver to silence this warning.\n",
      "  FutureWarning)\n",
      "C:\\Users\\Maria Jose- Javier\\Anaconda3\\lib\\site-packages\\sklearn\\linear_model\\logistic.py:433: FutureWarning: Default solver will be changed to 'lbfgs' in 0.22. Specify a solver to silence this warning.\n",
      "  FutureWarning)\n",
      "C:\\Users\\Maria Jose- Javier\\Anaconda3\\lib\\site-packages\\sklearn\\linear_model\\logistic.py:433: FutureWarning: Default solver will be changed to 'lbfgs' in 0.22. Specify a solver to silence this warning.\n",
      "  FutureWarning)\n",
      "C:\\Users\\Maria Jose- Javier\\Anaconda3\\lib\\site-packages\\sklearn\\linear_model\\logistic.py:433: FutureWarning: Default solver will be changed to 'lbfgs' in 0.22. Specify a solver to silence this warning.\n",
      "  FutureWarning)\n",
      "C:\\Users\\Maria Jose- Javier\\Anaconda3\\lib\\site-packages\\sklearn\\linear_model\\logistic.py:433: FutureWarning: Default solver will be changed to 'lbfgs' in 0.22. Specify a solver to silence this warning.\n",
      "  FutureWarning)\n",
      "C:\\Users\\Maria Jose- Javier\\Anaconda3\\lib\\site-packages\\sklearn\\linear_model\\logistic.py:433: FutureWarning: Default solver will be changed to 'lbfgs' in 0.22. Specify a solver to silence this warning.\n",
      "  FutureWarning)\n",
      "C:\\Users\\Maria Jose- Javier\\Anaconda3\\lib\\site-packages\\sklearn\\linear_model\\logistic.py:433: FutureWarning: Default solver will be changed to 'lbfgs' in 0.22. Specify a solver to silence this warning.\n",
      "  FutureWarning)\n",
      "C:\\Users\\Maria Jose- Javier\\Anaconda3\\lib\\site-packages\\sklearn\\linear_model\\logistic.py:433: FutureWarning: Default solver will be changed to 'lbfgs' in 0.22. Specify a solver to silence this warning.\n",
      "  FutureWarning)\n",
      "C:\\Users\\Maria Jose- Javier\\Anaconda3\\lib\\site-packages\\sklearn\\linear_model\\logistic.py:433: FutureWarning: Default solver will be changed to 'lbfgs' in 0.22. Specify a solver to silence this warning.\n",
      "  FutureWarning)\n",
      "C:\\Users\\Maria Jose- Javier\\Anaconda3\\lib\\site-packages\\sklearn\\linear_model\\logistic.py:433: FutureWarning: Default solver will be changed to 'lbfgs' in 0.22. Specify a solver to silence this warning.\n",
      "  FutureWarning)\n",
      "C:\\Users\\Maria Jose- Javier\\Anaconda3\\lib\\site-packages\\sklearn\\linear_model\\logistic.py:433: FutureWarning: Default solver will be changed to 'lbfgs' in 0.22. Specify a solver to silence this warning.\n",
      "  FutureWarning)\n",
      "C:\\Users\\Maria Jose- Javier\\Anaconda3\\lib\\site-packages\\sklearn\\linear_model\\logistic.py:433: FutureWarning: Default solver will be changed to 'lbfgs' in 0.22. Specify a solver to silence this warning.\n",
      "  FutureWarning)\n",
      "C:\\Users\\Maria Jose- Javier\\Anaconda3\\lib\\site-packages\\sklearn\\linear_model\\logistic.py:433: FutureWarning: Default solver will be changed to 'lbfgs' in 0.22. Specify a solver to silence this warning.\n",
      "  FutureWarning)\n",
      "C:\\Users\\Maria Jose- Javier\\Anaconda3\\lib\\site-packages\\sklearn\\linear_model\\logistic.py:433: FutureWarning: Default solver will be changed to 'lbfgs' in 0.22. Specify a solver to silence this warning.\n",
      "  FutureWarning)\n",
      "C:\\Users\\Maria Jose- Javier\\Anaconda3\\lib\\site-packages\\sklearn\\linear_model\\logistic.py:433: FutureWarning: Default solver will be changed to 'lbfgs' in 0.22. Specify a solver to silence this warning.\n",
      "  FutureWarning)\n",
      "C:\\Users\\Maria Jose- Javier\\Anaconda3\\lib\\site-packages\\sklearn\\linear_model\\logistic.py:433: FutureWarning: Default solver will be changed to 'lbfgs' in 0.22. Specify a solver to silence this warning.\n",
      "  FutureWarning)\n",
      "C:\\Users\\Maria Jose- Javier\\Anaconda3\\lib\\site-packages\\sklearn\\linear_model\\logistic.py:433: FutureWarning: Default solver will be changed to 'lbfgs' in 0.22. Specify a solver to silence this warning.\n",
      "  FutureWarning)\n",
      "C:\\Users\\Maria Jose- Javier\\Anaconda3\\lib\\site-packages\\sklearn\\linear_model\\logistic.py:433: FutureWarning: Default solver will be changed to 'lbfgs' in 0.22. Specify a solver to silence this warning.\n",
      "  FutureWarning)\n",
      "C:\\Users\\Maria Jose- Javier\\Anaconda3\\lib\\site-packages\\sklearn\\linear_model\\logistic.py:433: FutureWarning: Default solver will be changed to 'lbfgs' in 0.22. Specify a solver to silence this warning.\n",
      "  FutureWarning)\n",
      "C:\\Users\\Maria Jose- Javier\\Anaconda3\\lib\\site-packages\\sklearn\\linear_model\\logistic.py:433: FutureWarning: Default solver will be changed to 'lbfgs' in 0.22. Specify a solver to silence this warning.\n",
      "  FutureWarning)\n"
     ]
    },
    {
     "data": {
      "text/plain": [
       "RandomizedSearchCV(cv=10, error_score='raise-deprecating',\n",
       "          estimator=LogisticRegression(C=1.0, class_weight=None, dual=False, fit_intercept=True,\n",
       "          intercept_scaling=1, max_iter=100, multi_class='warn',\n",
       "          n_jobs=None, penalty='l2', random_state=None, solver='warn',\n",
       "          tol=0.0001, verbose=0, warm_start=False),\n",
       "          fit_params=None, iid='warn', n_iter=10, n_jobs=None,\n",
       "          param_distributions={'penalty': ['l1', 'l2'], 'C': array([0.76576, 0.90689, 0.89954, 1.04247, 1.14727])},\n",
       "          pre_dispatch='2*n_jobs', random_state=None, refit=True,\n",
       "          return_train_score='warn', scoring=None, verbose=0)"
      ]
     },
     "execution_count": 78,
     "metadata": {},
     "output_type": "execute_result"
    }
   ],
   "source": [
    "parametrosLGRS = {'penalty': ['l1', 'l2'], 'C': uniform(0, 2, 5)}\n",
    "LG = LogisticRegression(solver='warn')\n",
    "\n",
    "LGRS = RandomizedSearchCV(LG, param_distributions = parametrosLGRS, cv = 10)\n",
    "\n",
    "LGRS.fit(X_train, y_train)\n",
    "# lbfgs"
   ]
  },
  {
   "cell_type": "code",
   "execution_count": 84,
   "metadata": {},
   "outputs": [
    {
     "name": "stdout",
     "output_type": "stream",
     "text": [
      "Valor óptimo para penalty: l1\n",
      "Valor óptimo para C: 0.7657554640864559\n"
     ]
    }
   ],
   "source": [
    "print('Valor óptimo para penalty: {}'.format(LGRS.best_params_['penalty']))\n",
    "print('Valor óptimo para C: {}'.format(LGRS.best_params_['C']))"
   ]
  },
  {
   "cell_type": "code",
   "execution_count": 85,
   "metadata": {},
   "outputs": [
    {
     "name": "stderr",
     "output_type": "stream",
     "text": [
      "C:\\Users\\Maria Jose- Javier\\Anaconda3\\lib\\site-packages\\sklearn\\linear_model\\logistic.py:433: FutureWarning: Default solver will be changed to 'lbfgs' in 0.22. Specify a solver to silence this warning.\n",
      "  FutureWarning)\n"
     ]
    },
    {
     "name": "stdout",
     "output_type": "stream",
     "text": [
      "Precisión en el conjunto de test: 71.92%\n"
     ]
    }
   ],
   "source": [
    "LGRSBest = LogisticRegression(penalty=LGRS.best_params_['penalty'], C=LGRS.best_params_['C'])\n",
    "LGRSBest.fit(X_train, y_train)\n",
    "\n",
    "predsLGRS = LGRSBest.predict(X_test)\n",
    "\n",
    "accuracyLGRS = np.true_divide(np.sum(predsLGRS == y_test), predsLGRS.shape[0])*100\n",
    "print('Precisión en el conjunto de test: {:.2f}%'.format(accuracyLGRS))"
   ]
  },
  {
   "cell_type": "markdown",
   "metadata": {},
   "source": [
    "GridSearchCV"
   ]
  },
  {
   "cell_type": "code",
   "execution_count": 86,
   "metadata": {},
   "outputs": [
    {
     "name": "stderr",
     "output_type": "stream",
     "text": [
      "C:\\Users\\Maria Jose- Javier\\Anaconda3\\lib\\site-packages\\sklearn\\linear_model\\logistic.py:433: FutureWarning: Default solver will be changed to 'lbfgs' in 0.22. Specify a solver to silence this warning.\n",
      "  FutureWarning)\n",
      "C:\\Users\\Maria Jose- Javier\\Anaconda3\\lib\\site-packages\\sklearn\\linear_model\\logistic.py:433: FutureWarning: Default solver will be changed to 'lbfgs' in 0.22. Specify a solver to silence this warning.\n",
      "  FutureWarning)\n",
      "C:\\Users\\Maria Jose- Javier\\Anaconda3\\lib\\site-packages\\sklearn\\linear_model\\logistic.py:433: FutureWarning: Default solver will be changed to 'lbfgs' in 0.22. Specify a solver to silence this warning.\n",
      "  FutureWarning)\n",
      "C:\\Users\\Maria Jose- Javier\\Anaconda3\\lib\\site-packages\\sklearn\\linear_model\\logistic.py:433: FutureWarning: Default solver will be changed to 'lbfgs' in 0.22. Specify a solver to silence this warning.\n",
      "  FutureWarning)\n",
      "C:\\Users\\Maria Jose- Javier\\Anaconda3\\lib\\site-packages\\sklearn\\linear_model\\logistic.py:433: FutureWarning: Default solver will be changed to 'lbfgs' in 0.22. Specify a solver to silence this warning.\n",
      "  FutureWarning)\n",
      "C:\\Users\\Maria Jose- Javier\\Anaconda3\\lib\\site-packages\\sklearn\\linear_model\\logistic.py:433: FutureWarning: Default solver will be changed to 'lbfgs' in 0.22. Specify a solver to silence this warning.\n",
      "  FutureWarning)\n",
      "C:\\Users\\Maria Jose- Javier\\Anaconda3\\lib\\site-packages\\sklearn\\linear_model\\logistic.py:433: FutureWarning: Default solver will be changed to 'lbfgs' in 0.22. Specify a solver to silence this warning.\n",
      "  FutureWarning)\n",
      "C:\\Users\\Maria Jose- Javier\\Anaconda3\\lib\\site-packages\\sklearn\\linear_model\\logistic.py:433: FutureWarning: Default solver will be changed to 'lbfgs' in 0.22. Specify a solver to silence this warning.\n",
      "  FutureWarning)\n",
      "C:\\Users\\Maria Jose- Javier\\Anaconda3\\lib\\site-packages\\sklearn\\linear_model\\logistic.py:433: FutureWarning: Default solver will be changed to 'lbfgs' in 0.22. Specify a solver to silence this warning.\n",
      "  FutureWarning)\n",
      "C:\\Users\\Maria Jose- Javier\\Anaconda3\\lib\\site-packages\\sklearn\\linear_model\\logistic.py:433: FutureWarning: Default solver will be changed to 'lbfgs' in 0.22. Specify a solver to silence this warning.\n",
      "  FutureWarning)\n",
      "C:\\Users\\Maria Jose- Javier\\Anaconda3\\lib\\site-packages\\sklearn\\linear_model\\logistic.py:433: FutureWarning: Default solver will be changed to 'lbfgs' in 0.22. Specify a solver to silence this warning.\n",
      "  FutureWarning)\n",
      "C:\\Users\\Maria Jose- Javier\\Anaconda3\\lib\\site-packages\\sklearn\\linear_model\\logistic.py:433: FutureWarning: Default solver will be changed to 'lbfgs' in 0.22. Specify a solver to silence this warning.\n",
      "  FutureWarning)\n",
      "C:\\Users\\Maria Jose- Javier\\Anaconda3\\lib\\site-packages\\sklearn\\linear_model\\logistic.py:433: FutureWarning: Default solver will be changed to 'lbfgs' in 0.22. Specify a solver to silence this warning.\n",
      "  FutureWarning)\n",
      "C:\\Users\\Maria Jose- Javier\\Anaconda3\\lib\\site-packages\\sklearn\\linear_model\\logistic.py:433: FutureWarning: Default solver will be changed to 'lbfgs' in 0.22. Specify a solver to silence this warning.\n",
      "  FutureWarning)\n",
      "C:\\Users\\Maria Jose- Javier\\Anaconda3\\lib\\site-packages\\sklearn\\linear_model\\logistic.py:433: FutureWarning: Default solver will be changed to 'lbfgs' in 0.22. Specify a solver to silence this warning.\n",
      "  FutureWarning)\n",
      "C:\\Users\\Maria Jose- Javier\\Anaconda3\\lib\\site-packages\\sklearn\\linear_model\\logistic.py:433: FutureWarning: Default solver will be changed to 'lbfgs' in 0.22. Specify a solver to silence this warning.\n",
      "  FutureWarning)\n",
      "C:\\Users\\Maria Jose- Javier\\Anaconda3\\lib\\site-packages\\sklearn\\linear_model\\logistic.py:433: FutureWarning: Default solver will be changed to 'lbfgs' in 0.22. Specify a solver to silence this warning.\n",
      "  FutureWarning)\n",
      "C:\\Users\\Maria Jose- Javier\\Anaconda3\\lib\\site-packages\\sklearn\\linear_model\\logistic.py:433: FutureWarning: Default solver will be changed to 'lbfgs' in 0.22. Specify a solver to silence this warning.\n",
      "  FutureWarning)\n",
      "C:\\Users\\Maria Jose- Javier\\Anaconda3\\lib\\site-packages\\sklearn\\linear_model\\logistic.py:433: FutureWarning: Default solver will be changed to 'lbfgs' in 0.22. Specify a solver to silence this warning.\n",
      "  FutureWarning)\n",
      "C:\\Users\\Maria Jose- Javier\\Anaconda3\\lib\\site-packages\\sklearn\\linear_model\\logistic.py:433: FutureWarning: Default solver will be changed to 'lbfgs' in 0.22. Specify a solver to silence this warning.\n",
      "  FutureWarning)\n",
      "C:\\Users\\Maria Jose- Javier\\Anaconda3\\lib\\site-packages\\sklearn\\linear_model\\logistic.py:433: FutureWarning: Default solver will be changed to 'lbfgs' in 0.22. Specify a solver to silence this warning.\n",
      "  FutureWarning)\n",
      "C:\\Users\\Maria Jose- Javier\\Anaconda3\\lib\\site-packages\\sklearn\\linear_model\\logistic.py:433: FutureWarning: Default solver will be changed to 'lbfgs' in 0.22. Specify a solver to silence this warning.\n",
      "  FutureWarning)\n",
      "C:\\Users\\Maria Jose- Javier\\Anaconda3\\lib\\site-packages\\sklearn\\linear_model\\logistic.py:433: FutureWarning: Default solver will be changed to 'lbfgs' in 0.22. Specify a solver to silence this warning.\n",
      "  FutureWarning)\n",
      "C:\\Users\\Maria Jose- Javier\\Anaconda3\\lib\\site-packages\\sklearn\\linear_model\\logistic.py:433: FutureWarning: Default solver will be changed to 'lbfgs' in 0.22. Specify a solver to silence this warning.\n",
      "  FutureWarning)\n",
      "C:\\Users\\Maria Jose- Javier\\Anaconda3\\lib\\site-packages\\sklearn\\linear_model\\logistic.py:433: FutureWarning: Default solver will be changed to 'lbfgs' in 0.22. Specify a solver to silence this warning.\n",
      "  FutureWarning)\n",
      "C:\\Users\\Maria Jose- Javier\\Anaconda3\\lib\\site-packages\\sklearn\\linear_model\\logistic.py:433: FutureWarning: Default solver will be changed to 'lbfgs' in 0.22. Specify a solver to silence this warning.\n",
      "  FutureWarning)\n",
      "C:\\Users\\Maria Jose- Javier\\Anaconda3\\lib\\site-packages\\sklearn\\linear_model\\logistic.py:433: FutureWarning: Default solver will be changed to 'lbfgs' in 0.22. Specify a solver to silence this warning.\n",
      "  FutureWarning)\n",
      "C:\\Users\\Maria Jose- Javier\\Anaconda3\\lib\\site-packages\\sklearn\\linear_model\\logistic.py:433: FutureWarning: Default solver will be changed to 'lbfgs' in 0.22. Specify a solver to silence this warning.\n",
      "  FutureWarning)\n",
      "C:\\Users\\Maria Jose- Javier\\Anaconda3\\lib\\site-packages\\sklearn\\linear_model\\logistic.py:433: FutureWarning: Default solver will be changed to 'lbfgs' in 0.22. Specify a solver to silence this warning.\n",
      "  FutureWarning)\n",
      "C:\\Users\\Maria Jose- Javier\\Anaconda3\\lib\\site-packages\\sklearn\\linear_model\\logistic.py:433: FutureWarning: Default solver will be changed to 'lbfgs' in 0.22. Specify a solver to silence this warning.\n",
      "  FutureWarning)\n",
      "C:\\Users\\Maria Jose- Javier\\Anaconda3\\lib\\site-packages\\sklearn\\linear_model\\logistic.py:433: FutureWarning: Default solver will be changed to 'lbfgs' in 0.22. Specify a solver to silence this warning.\n",
      "  FutureWarning)\n",
      "C:\\Users\\Maria Jose- Javier\\Anaconda3\\lib\\site-packages\\sklearn\\linear_model\\logistic.py:433: FutureWarning: Default solver will be changed to 'lbfgs' in 0.22. Specify a solver to silence this warning.\n",
      "  FutureWarning)\n",
      "C:\\Users\\Maria Jose- Javier\\Anaconda3\\lib\\site-packages\\sklearn\\linear_model\\logistic.py:433: FutureWarning: Default solver will be changed to 'lbfgs' in 0.22. Specify a solver to silence this warning.\n",
      "  FutureWarning)\n",
      "C:\\Users\\Maria Jose- Javier\\Anaconda3\\lib\\site-packages\\sklearn\\linear_model\\logistic.py:433: FutureWarning: Default solver will be changed to 'lbfgs' in 0.22. Specify a solver to silence this warning.\n",
      "  FutureWarning)\n",
      "C:\\Users\\Maria Jose- Javier\\Anaconda3\\lib\\site-packages\\sklearn\\linear_model\\logistic.py:433: FutureWarning: Default solver will be changed to 'lbfgs' in 0.22. Specify a solver to silence this warning.\n",
      "  FutureWarning)\n",
      "C:\\Users\\Maria Jose- Javier\\Anaconda3\\lib\\site-packages\\sklearn\\linear_model\\logistic.py:433: FutureWarning: Default solver will be changed to 'lbfgs' in 0.22. Specify a solver to silence this warning.\n",
      "  FutureWarning)\n",
      "C:\\Users\\Maria Jose- Javier\\Anaconda3\\lib\\site-packages\\sklearn\\linear_model\\logistic.py:433: FutureWarning: Default solver will be changed to 'lbfgs' in 0.22. Specify a solver to silence this warning.\n",
      "  FutureWarning)\n",
      "C:\\Users\\Maria Jose- Javier\\Anaconda3\\lib\\site-packages\\sklearn\\linear_model\\logistic.py:433: FutureWarning: Default solver will be changed to 'lbfgs' in 0.22. Specify a solver to silence this warning.\n",
      "  FutureWarning)\n"
     ]
    },
    {
     "name": "stderr",
     "output_type": "stream",
     "text": [
      "C:\\Users\\Maria Jose- Javier\\Anaconda3\\lib\\site-packages\\sklearn\\linear_model\\logistic.py:433: FutureWarning: Default solver will be changed to 'lbfgs' in 0.22. Specify a solver to silence this warning.\n",
      "  FutureWarning)\n",
      "C:\\Users\\Maria Jose- Javier\\Anaconda3\\lib\\site-packages\\sklearn\\linear_model\\logistic.py:433: FutureWarning: Default solver will be changed to 'lbfgs' in 0.22. Specify a solver to silence this warning.\n",
      "  FutureWarning)\n",
      "C:\\Users\\Maria Jose- Javier\\Anaconda3\\lib\\site-packages\\sklearn\\linear_model\\logistic.py:433: FutureWarning: Default solver will be changed to 'lbfgs' in 0.22. Specify a solver to silence this warning.\n",
      "  FutureWarning)\n",
      "C:\\Users\\Maria Jose- Javier\\Anaconda3\\lib\\site-packages\\sklearn\\linear_model\\logistic.py:433: FutureWarning: Default solver will be changed to 'lbfgs' in 0.22. Specify a solver to silence this warning.\n",
      "  FutureWarning)\n",
      "C:\\Users\\Maria Jose- Javier\\Anaconda3\\lib\\site-packages\\sklearn\\linear_model\\logistic.py:433: FutureWarning: Default solver will be changed to 'lbfgs' in 0.22. Specify a solver to silence this warning.\n",
      "  FutureWarning)\n",
      "C:\\Users\\Maria Jose- Javier\\Anaconda3\\lib\\site-packages\\sklearn\\linear_model\\logistic.py:433: FutureWarning: Default solver will be changed to 'lbfgs' in 0.22. Specify a solver to silence this warning.\n",
      "  FutureWarning)\n",
      "C:\\Users\\Maria Jose- Javier\\Anaconda3\\lib\\site-packages\\sklearn\\linear_model\\logistic.py:433: FutureWarning: Default solver will be changed to 'lbfgs' in 0.22. Specify a solver to silence this warning.\n",
      "  FutureWarning)\n",
      "C:\\Users\\Maria Jose- Javier\\Anaconda3\\lib\\site-packages\\sklearn\\linear_model\\logistic.py:433: FutureWarning: Default solver will be changed to 'lbfgs' in 0.22. Specify a solver to silence this warning.\n",
      "  FutureWarning)\n",
      "C:\\Users\\Maria Jose- Javier\\Anaconda3\\lib\\site-packages\\sklearn\\linear_model\\logistic.py:433: FutureWarning: Default solver will be changed to 'lbfgs' in 0.22. Specify a solver to silence this warning.\n",
      "  FutureWarning)\n",
      "C:\\Users\\Maria Jose- Javier\\Anaconda3\\lib\\site-packages\\sklearn\\linear_model\\logistic.py:433: FutureWarning: Default solver will be changed to 'lbfgs' in 0.22. Specify a solver to silence this warning.\n",
      "  FutureWarning)\n",
      "C:\\Users\\Maria Jose- Javier\\Anaconda3\\lib\\site-packages\\sklearn\\linear_model\\logistic.py:433: FutureWarning: Default solver will be changed to 'lbfgs' in 0.22. Specify a solver to silence this warning.\n",
      "  FutureWarning)\n",
      "C:\\Users\\Maria Jose- Javier\\Anaconda3\\lib\\site-packages\\sklearn\\linear_model\\logistic.py:433: FutureWarning: Default solver will be changed to 'lbfgs' in 0.22. Specify a solver to silence this warning.\n",
      "  FutureWarning)\n",
      "C:\\Users\\Maria Jose- Javier\\Anaconda3\\lib\\site-packages\\sklearn\\linear_model\\logistic.py:433: FutureWarning: Default solver will be changed to 'lbfgs' in 0.22. Specify a solver to silence this warning.\n",
      "  FutureWarning)\n",
      "C:\\Users\\Maria Jose- Javier\\Anaconda3\\lib\\site-packages\\sklearn\\linear_model\\logistic.py:433: FutureWarning: Default solver will be changed to 'lbfgs' in 0.22. Specify a solver to silence this warning.\n",
      "  FutureWarning)\n",
      "C:\\Users\\Maria Jose- Javier\\Anaconda3\\lib\\site-packages\\sklearn\\linear_model\\logistic.py:433: FutureWarning: Default solver will be changed to 'lbfgs' in 0.22. Specify a solver to silence this warning.\n",
      "  FutureWarning)\n",
      "C:\\Users\\Maria Jose- Javier\\Anaconda3\\lib\\site-packages\\sklearn\\linear_model\\logistic.py:433: FutureWarning: Default solver will be changed to 'lbfgs' in 0.22. Specify a solver to silence this warning.\n",
      "  FutureWarning)\n",
      "C:\\Users\\Maria Jose- Javier\\Anaconda3\\lib\\site-packages\\sklearn\\linear_model\\logistic.py:433: FutureWarning: Default solver will be changed to 'lbfgs' in 0.22. Specify a solver to silence this warning.\n",
      "  FutureWarning)\n",
      "C:\\Users\\Maria Jose- Javier\\Anaconda3\\lib\\site-packages\\sklearn\\linear_model\\logistic.py:433: FutureWarning: Default solver will be changed to 'lbfgs' in 0.22. Specify a solver to silence this warning.\n",
      "  FutureWarning)\n",
      "C:\\Users\\Maria Jose- Javier\\Anaconda3\\lib\\site-packages\\sklearn\\linear_model\\logistic.py:433: FutureWarning: Default solver will be changed to 'lbfgs' in 0.22. Specify a solver to silence this warning.\n",
      "  FutureWarning)\n",
      "C:\\Users\\Maria Jose- Javier\\Anaconda3\\lib\\site-packages\\sklearn\\linear_model\\logistic.py:433: FutureWarning: Default solver will be changed to 'lbfgs' in 0.22. Specify a solver to silence this warning.\n",
      "  FutureWarning)\n",
      "C:\\Users\\Maria Jose- Javier\\Anaconda3\\lib\\site-packages\\sklearn\\linear_model\\logistic.py:433: FutureWarning: Default solver will be changed to 'lbfgs' in 0.22. Specify a solver to silence this warning.\n",
      "  FutureWarning)\n",
      "C:\\Users\\Maria Jose- Javier\\Anaconda3\\lib\\site-packages\\sklearn\\linear_model\\logistic.py:433: FutureWarning: Default solver will be changed to 'lbfgs' in 0.22. Specify a solver to silence this warning.\n",
      "  FutureWarning)\n",
      "C:\\Users\\Maria Jose- Javier\\Anaconda3\\lib\\site-packages\\sklearn\\linear_model\\logistic.py:433: FutureWarning: Default solver will be changed to 'lbfgs' in 0.22. Specify a solver to silence this warning.\n",
      "  FutureWarning)\n"
     ]
    },
    {
     "data": {
      "text/plain": [
       "GridSearchCV(cv=10, error_score='raise-deprecating',\n",
       "       estimator=LogisticRegression(C=1.0, class_weight=None, dual=False, fit_intercept=True,\n",
       "          intercept_scaling=1, max_iter=100, multi_class='warn',\n",
       "          n_jobs=None, penalty='l2', random_state=None, solver='warn',\n",
       "          tol=0.0001, verbose=0, warm_start=False),\n",
       "       fit_params=None, iid='warn', n_jobs=None,\n",
       "       param_grid={'penalty': ['l1', 'l2'], 'C': [0.16, 0.29, 1]},\n",
       "       pre_dispatch='2*n_jobs', refit=True, return_train_score='warn',\n",
       "       scoring=None, verbose=0)"
      ]
     },
     "execution_count": 86,
     "metadata": {},
     "output_type": "execute_result"
    }
   ],
   "source": [
    "parametrosLGGS = {'penalty': ['l1', 'l2'], 'C': [0.16, 0.29, 1]}\n",
    "LGGS = GridSearchCV(LogisticRegression(), param_grid=parametrosLGGS, cv=10)\n",
    "LGGS.fit(X_train, y_train)"
   ]
  },
  {
   "cell_type": "code",
   "execution_count": 88,
   "metadata": {},
   "outputs": [],
   "source": [
    "means = LGGS.cv_results_['mean_test_score']\n",
    "stds = LGGS.cv_results_['std_test_score']\n",
    "params = LGGS.cv_results_['params']\n",
    "ranks = LGGS.cv_results_['rank_test_score']"
   ]
  },
  {
   "cell_type": "code",
   "execution_count": 89,
   "metadata": {},
   "outputs": [
    {
     "name": "stdout",
     "output_type": "stream",
     "text": [
      "1) Precisión media: 76.24 +/- 2.86 con parámetros {'C': 0.16, 'penalty': 'l1'}\n",
      "3) Precisión media: 73.07 +/- 2.33 con parámetros {'C': 0.16, 'penalty': 'l2'}\n",
      "2) Precisión media: 75.05 +/- 2.86 con parámetros {'C': 0.29, 'penalty': 'l1'}\n",
      "5) Precisión media: 72.62 +/- 2.61 con parámetros {'C': 0.29, 'penalty': 'l2'}\n",
      "4) Precisión media: 72.66 +/- 2.00 con parámetros {'C': 1, 'penalty': 'l1'}\n",
      "6) Precisión media: 72.21 +/- 2.41 con parámetros {'C': 1, 'penalty': 'l2'}\n"
     ]
    }
   ],
   "source": [
    "for rank, mean, std, pms in zip(ranks, means, stds, params):\n",
    "    print('{}) Precisión media: {:.2f} +/- {:.2f} con parámetros {}'.format(rank, mean*100, std*100, pms))"
   ]
  },
  {
   "cell_type": "code",
   "execution_count": 90,
   "metadata": {},
   "outputs": [
    {
     "name": "stdout",
     "output_type": "stream",
     "text": [
      "Valor óptimo para penalty: l1\n",
      "Valor óptimo para C: 0.16\n"
     ]
    }
   ],
   "source": [
    "print('Valor óptimo para penalty: {}'.format(LGGS.best_params_['penalty']))\n",
    "print('Valor óptimo para C: {}'.format(LGGS.best_params_['C']))"
   ]
  },
  {
   "cell_type": "code",
   "execution_count": 91,
   "metadata": {},
   "outputs": [
    {
     "name": "stderr",
     "output_type": "stream",
     "text": [
      "C:\\Users\\Maria Jose- Javier\\Anaconda3\\lib\\site-packages\\sklearn\\linear_model\\logistic.py:433: FutureWarning: Default solver will be changed to 'lbfgs' in 0.22. Specify a solver to silence this warning.\n",
      "  FutureWarning)\n"
     ]
    },
    {
     "name": "stdout",
     "output_type": "stream",
     "text": [
      "Precisión en el conjunto de test: 73.41%\n"
     ]
    }
   ],
   "source": [
    "LGGSBest = LogisticRegression(penalty=LGGS.best_params_['penalty'], C=LGGS.best_params_['C'])\n",
    "LGGSBest.fit(X_train, y_train)\n",
    "\n",
    "predsLGGS = LGGSBest.predict(X_test)\n",
    "\n",
    "accuracyLGGS = np.true_divide(np.sum(predsLGGS == y_test), predsLGGS.shape[0])*100\n",
    "print('Precisión en el conjunto de test: {:.2f}%'.format(accuracyLGGS))"
   ]
  },
  {
   "cell_type": "code",
   "execution_count": 92,
   "metadata": {},
   "outputs": [
    {
     "data": {
      "image/png": "[encoded data removed]",
      "text/plain": [
       "<matplotlib.figure.Figure at 0x1878ac64588>"
      ]
     },
     "metadata": {},
     "output_type": "display_data"
    }
   ],
   "source": [
    "matrizConfusion(y_test, predsLGGS)"
   ]
  },
  {
   "cell_type": "code",
   "execution_count": 93,
   "metadata": {},
   "outputs": [
    {
     "name": "stdout",
     "output_type": "stream",
     "text": [
      "Verdaderos Negativos: 620\n",
      "Verdaderos Positivos: 363\n",
      "Falsos Positivos: 160\n",
      "Falsos Negativos: 196\n",
      "\n",
      "\n",
      "Accuracy: 73.41299477221807\n",
      "Misclassification error: -26.587005227781923\n",
      "True Positive Rate/Recall/Sensitivity: 64.93738819320215\n",
      "False Positive Rate: 20.51282051282051\n",
      "Precision: 69.40726577437859\n",
      "Specificity: 79.48717948717949\n",
      "F1 score: 67.09796672828097\n"
     ]
    }
   ],
   "source": [
    "m = matrizConfusionValores(y_test, predsLGGS)\n",
    "print('Verdaderos Negativos: {}'.format(m[0]))\n",
    "print('Verdaderos Positivos: {}'.format(m[1]))\n",
    "print('Falsos Positivos: {}'.format(m[2]))\n",
    "print('Falsos Negativos: {}'.format(m[3]))\n",
    "print(\"\"\"\n",
    "\"\"\")\n",
    "metricas(m)"
   ]
  },
  {
   "cell_type": "markdown",
   "metadata": {},
   "source": [
    "## KNN"
   ]
  },
  {
   "cell_type": "code",
   "execution_count": null,
   "metadata": {},
   "outputs": [],
   "source": [
    "# KNeighborsClassifier(n_neighbors=5, weights=’uniform’, algorithm=’auto’, leaf_size=30, p=2, metric=’minkowski’,\n",
    "#                      metric_params=None, n_jobs=None, **kwargs"
   ]
  },
  {
   "cell_type": "markdown",
   "metadata": {},
   "source": [
    "GridSearchCV"
   ]
  },
  {
   "cell_type": "code",
   "execution_count": 94,
   "metadata": {},
   "outputs": [
    {
     "data": {
      "text/plain": [
       "GridSearchCV(cv=10, error_score='raise-deprecating',\n",
       "       estimator=KNeighborsClassifier(algorithm='auto', leaf_size=30, metric='minkowski',\n",
       "           metric_params=None, n_jobs=None, n_neighbors=5, p=2,\n",
       "           weights='uniform'),\n",
       "       fit_params=None, iid='warn', n_jobs=None,\n",
       "       param_grid={'n_neighbors': range(5, 9), 'weights': ['uniform', 'distance']},\n",
       "       pre_dispatch='2*n_jobs', refit=True, return_train_score='warn',\n",
       "       scoring=None, verbose=0)"
      ]
     },
     "execution_count": 94,
     "metadata": {},
     "output_type": "execute_result"
    }
   ],
   "source": [
    "parametrosKNNGS = {'n_neighbors': range(5,9), 'weights': ['uniform', 'distance']}\n",
    "KNNGS = GridSearchCV(KNeighborsClassifier(), param_grid=parametrosKNNGS, cv=10)\n",
    "KNNGS.fit(X_train, y_train)"
   ]
  },
  {
   "cell_type": "code",
   "execution_count": 95,
   "metadata": {},
   "outputs": [],
   "source": [
    "means = KNNGS.cv_results_['mean_test_score']\n",
    "stds = KNNGS.cv_results_['std_test_score']\n",
    "params = KNNGS.cv_results_['params']\n",
    "ranks = KNNGS.cv_results_['rank_test_score']"
   ]
  },
  {
   "cell_type": "code",
   "execution_count": 96,
   "metadata": {},
   "outputs": [
    {
     "name": "stdout",
     "output_type": "stream",
     "text": [
      "6) Precisión media: 66.42 +/- 2.90 con parámetros {'n_neighbors': 5, 'weights': 'uniform'}\n",
      "7) Precisión media: 66.34 +/- 2.96 con parámetros {'n_neighbors': 5, 'weights': 'distance'}\n",
      "8) Precisión media: 65.75 +/- 2.32 con parámetros {'n_neighbors': 6, 'weights': 'uniform'}\n",
      "3) Precisión media: 67.05 +/- 2.46 con parámetros {'n_neighbors': 6, 'weights': 'distance'}\n",
      "4) Precisión media: 66.64 +/- 2.53 con parámetros {'n_neighbors': 7, 'weights': 'uniform'}\n",
      "5) Precisión media: 66.60 +/- 2.60 con parámetros {'n_neighbors': 7, 'weights': 'distance'}\n",
      "2) Precisión media: 67.16 +/- 2.17 con parámetros {'n_neighbors': 8, 'weights': 'uniform'}\n",
      "1) Precisión media: 67.61 +/- 2.39 con parámetros {'n_neighbors': 8, 'weights': 'distance'}\n"
     ]
    }
   ],
   "source": [
    "for rank, mean, std, pms in zip(ranks, means, stds, params):\n",
    "    print('{}) Precisión media: {:.2f} +/- {:.2f} con parámetros {}'.format(rank, mean*100, std*100, pms))"
   ]
  },
  {
   "cell_type": "code",
   "execution_count": 97,
   "metadata": {},
   "outputs": [
    {
     "name": "stdout",
     "output_type": "stream",
     "text": [
      "Valor óptimo para k: 8\n",
      "Valor óptimo para weights: distance\n"
     ]
    }
   ],
   "source": [
    "print('Valor óptimo para k: {}'.format(KNNGS.best_params_['n_neighbors']))\n",
    "print('Valor óptimo para weights: {}'.format(KNNGS.best_params_['weights']))"
   ]
  },
  {
   "cell_type": "code",
   "execution_count": 98,
   "metadata": {
    "scrolled": true
   },
   "outputs": [
    {
     "name": "stdout",
     "output_type": "stream",
     "text": [
      "Precisión en el conjunto de test: 67.06%\n"
     ]
    }
   ],
   "source": [
    "KNNGSBest = KNeighborsClassifier(n_neighbors=KNNGS.best_params_['n_neighbors'], weights=KNNGS.best_params_['weights'])\n",
    "KNNGSBest.fit(X_train, y_train)\n",
    "\n",
    "predsKNNGS = KNNGSBest.predict(X_test)\n",
    "\n",
    "accuracyKNNGS = np.true_divide(np.sum(predsKNNGS == y_test), predsKNNGS.shape[0])*100\n",
    "print('Precisión en el conjunto de test: {:.2f}%'.format(accuracyKNNGS))"
   ]
  },
  {
   "cell_type": "code",
   "execution_count": 99,
   "metadata": {
    "scrolled": true
   },
   "outputs": [
    {
     "data": {
      "image/png": "[encoded data removed]",
      "text/plain": [
       "<matplotlib.figure.Figure at 0x1878acb42b0>"
      ]
     },
     "metadata": {},
     "output_type": "display_data"
    }
   ],
   "source": [
    "matrizConfusion(y_test, predsKNNGS)"
   ]
  },
  {
   "cell_type": "code",
   "execution_count": 100,
   "metadata": {},
   "outputs": [
    {
     "name": "stdout",
     "output_type": "stream",
     "text": [
      "Verdaderos Negativos: 569\n",
      "Verdaderos Positivos: 329\n",
      "Falsos Positivos: 211\n",
      "Falsos Negativos: 230\n",
      "\n",
      "\n",
      "Accuracy: 67.06497386109037\n",
      "Misclassification error: -32.93502613890963\n",
      "True Positive Rate/Recall/Sensitivity: 58.85509838998211\n",
      "False Positive Rate: 27.05128205128205\n",
      "Precision: 60.92592592592593\n",
      "Specificity: 72.94871794871796\n",
      "F1 score: 59.87261146496815\n"
     ]
    }
   ],
   "source": [
    "m = matrizConfusionValores(y_test, predsKNNGS)\n",
    "print('Verdaderos Negativos: {}'.format(m[0]))\n",
    "print('Verdaderos Positivos: {}'.format(m[1]))\n",
    "print('Falsos Positivos: {}'.format(m[2]))\n",
    "print('Falsos Negativos: {}'.format(m[3]))\n",
    "print(\"\"\"\n",
    "\"\"\")\n",
    "metricas(m)"
   ]
  }
 ],
 "metadata": {
  "kernelspec": {
   "display_name": "Python 3",
   "language": "python",
   "name": "python3"
  },
  "language_info": {
   "codemirror_mode": {
    "name": "ipython",
    "version": 3
   },
   "file_extension": ".py",
   "mimetype": "text/x-python",
   "name": "python",
   "nbconvert_exporter": "python",
   "pygments_lexer": "ipython3",
   "version": "3.6.4"
  }
 },
 "nbformat": 4,
 "nbformat_minor": 2
}
